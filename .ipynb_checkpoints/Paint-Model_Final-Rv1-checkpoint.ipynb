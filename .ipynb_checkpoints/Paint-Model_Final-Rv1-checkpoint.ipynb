{
 "cells": [
  {
   "cell_type": "markdown",
   "metadata": {},
   "source": [
    "# Problem Statement"
   ]
  },
  {
   "cell_type": "markdown",
   "metadata": {},
   "source": [
    "\n",
    "\n",
    "Given that we are real estate consultany firm whose clients are leading estate development company especially in Bangkok and metropolitan Area \n",
    "As real estate market is bouncing back from Covid financial crisis. Our clietns trying to explore possibility in launch projects in 2,500 prospective areas (Test Data) given from client as client marketing team wants to know proper pricing in whose areas that actually reflects from existing estate prices. (Train Data) \n",
    "\n",
    "So that, the marketing team could get glimpse of margin, worthiness of investment for each projects based on predicted data to ranking priority of prospective areas.\n",
    "\n",
    "Prospect Audience: Client Marketing Team "
   ]
  },
  {
   "cell_type": "markdown",
   "metadata": {},
   "source": [
    "# Data Dictionary"
   ]
  },
  {
   "cell_type": "markdown",
   "metadata": {
    "tags": []
   },
   "source": [
    "|Feature|Type|Dataset|Description|\n",
    "|---|---|---|---|\n",
    "|**train_df**|dataframe|train.json|Existing estate data of Bangkok and Metropolitan Areas|\n",
    "|**test_df**|dataframe|test.json|2,500 prospective projects areas|\n",
    "|**model1**|dataframe|train_df| Null Model (mean of pricing from train_df |\n",
    "|**model2**|dataframe|train_df| Model from selective features in train_df believing that Latitude and Longtitude will be sufficient for location based features|\n",
    "|**test_model2**|dataframe|test_df| Selective features dataframe that correspond with model2 features|\n",
    "|**model3**|dataframe|train_df| Model from selective features in train_df believing that Province, District and Subdistrict plays major roles in location based features |\n",
    "|**test_model3**|dataframe|test_df| Selective features dataframe that correspond with model2 features |"
   ]
  },
  {
   "cell_type": "markdown",
   "metadata": {},
   "source": [
    "# Import"
   ]
  },
  {
   "cell_type": "code",
   "execution_count": 1,
   "metadata": {},
   "outputs": [],
   "source": [
    "import pandas as pd\n",
    "import numpy as np\n",
    "import seaborn as sns\n",
    "import matplotlib.pyplot as plt\n",
    "plt.style.use(\"ggplot\")\n",
    "import plotly.express as px\n",
    "import missingno as msno\n",
    "\n",
    "from sklearn.linear_model import LinearRegression\n",
    "from sklearn.dummy import DummyRegressor\n",
    "from sklearn.model_selection import train_test_split, cross_val_score, cross_val_predict\n",
    "from sklearn.metrics import mean_squared_error, r2_score\n",
    "from sklearn.linear_model import Lasso, LassoCV\n",
    "from sklearn.metrics import mean_squared_error"
   ]
  },
  {
   "cell_type": "markdown",
   "metadata": {},
   "source": [
    "# Load Data"
   ]
  },
  {
   "cell_type": "code",
   "execution_count": 2,
   "metadata": {},
   "outputs": [],
   "source": [
    "train_df = pd.read_json('train.json') ## read train data\n",
    "test_df = pd.read_json('test.json') ## read test data"
   ]
  },
  {
   "cell_type": "code",
   "execution_count": 3,
   "metadata": {},
   "outputs": [
    {
     "data": {
      "text/html": [
       "<div>\n",
       "<style scoped>\n",
       "    .dataframe tbody tr th:only-of-type {\n",
       "        vertical-align: middle;\n",
       "    }\n",
       "\n",
       "    .dataframe tbody tr th {\n",
       "        vertical-align: top;\n",
       "    }\n",
       "\n",
       "    .dataframe thead th {\n",
       "        text-align: right;\n",
       "    }\n",
       "</style>\n",
       "<table border=\"1\" class=\"dataframe\">\n",
       "  <thead>\n",
       "    <tr style=\"text-align: right;\">\n",
       "      <th></th>\n",
       "      <th>id</th>\n",
       "      <th>province</th>\n",
       "      <th>district</th>\n",
       "      <th>subdistrict</th>\n",
       "      <th>address</th>\n",
       "      <th>property_type</th>\n",
       "      <th>total_units</th>\n",
       "      <th>bedrooms</th>\n",
       "      <th>baths</th>\n",
       "      <th>floor_area</th>\n",
       "      <th>...</th>\n",
       "      <th>longitude</th>\n",
       "      <th>nearby_stations</th>\n",
       "      <th>nearby_station_distance</th>\n",
       "      <th>nearby_bus_stops</th>\n",
       "      <th>nearby_supermarkets</th>\n",
       "      <th>nearby_shops</th>\n",
       "      <th>year_built</th>\n",
       "      <th>month_built</th>\n",
       "      <th>facilities</th>\n",
       "      <th>price</th>\n",
       "    </tr>\n",
       "  </thead>\n",
       "  <tbody>\n",
       "    <tr>\n",
       "      <th>0</th>\n",
       "      <td>8448321</td>\n",
       "      <td>Bangkok</td>\n",
       "      <td>Watthana</td>\n",
       "      <td>Phra Khanong Nuea</td>\n",
       "      <td>36 Soi Sukhumvit 63, Ekamai Road</td>\n",
       "      <td>Condo</td>\n",
       "      <td>273.0</td>\n",
       "      <td>2.0</td>\n",
       "      <td>2.0</td>\n",
       "      <td>66</td>\n",
       "      <td>...</td>\n",
       "      <td>100.584850</td>\n",
       "      <td>2</td>\n",
       "      <td>[[E7 Ekkamai BTS, 270], [E6 Thong Lo BTS, 800]]</td>\n",
       "      <td>NaN</td>\n",
       "      <td>16.0</td>\n",
       "      <td>20</td>\n",
       "      <td>2011</td>\n",
       "      <td>June</td>\n",
       "      <td>[Car Park, Community Garden, CCTV, Fitness cor...</td>\n",
       "      <td>8500000</td>\n",
       "    </tr>\n",
       "    <tr>\n",
       "      <th>1</th>\n",
       "      <td>10936325</td>\n",
       "      <td>Bangkok</td>\n",
       "      <td>Watthana</td>\n",
       "      <td>Khlong Toei Nuea</td>\n",
       "      <td>31 สุขุมวิท</td>\n",
       "      <td>Condo</td>\n",
       "      <td>74.0</td>\n",
       "      <td>1.0</td>\n",
       "      <td>1.0</td>\n",
       "      <td>49</td>\n",
       "      <td>...</td>\n",
       "      <td>100.566949</td>\n",
       "      <td>3</td>\n",
       "      <td>[[BL22 Sukhumvit MRT, 720], [BL21 Phetchaburi ...</td>\n",
       "      <td>NaN</td>\n",
       "      <td>11.0</td>\n",
       "      <td>20</td>\n",
       "      <td>2012</td>\n",
       "      <td>September</td>\n",
       "      <td>[CCTV, Fitness corner, 24 hours security, Swim...</td>\n",
       "      <td>5900000</td>\n",
       "    </tr>\n",
       "  </tbody>\n",
       "</table>\n",
       "<p>2 rows × 23 columns</p>\n",
       "</div>"
      ],
      "text/plain": [
       "         id province  district        subdistrict  \\\n",
       "0   8448321  Bangkok  Watthana  Phra Khanong Nuea   \n",
       "1  10936325  Bangkok  Watthana   Khlong Toei Nuea   \n",
       "\n",
       "                            address property_type  total_units  bedrooms  \\\n",
       "0  36 Soi Sukhumvit 63, Ekamai Road         Condo        273.0       2.0   \n",
       "1                       31 สุขุมวิท         Condo         74.0       1.0   \n",
       "\n",
       "   baths  floor_area  ...   longitude  nearby_stations  \\\n",
       "0    2.0          66  ...  100.584850                2   \n",
       "1    1.0          49  ...  100.566949                3   \n",
       "\n",
       "                             nearby_station_distance  nearby_bus_stops  \\\n",
       "0    [[E7 Ekkamai BTS, 270], [E6 Thong Lo BTS, 800]]               NaN   \n",
       "1  [[BL22 Sukhumvit MRT, 720], [BL21 Phetchaburi ...               NaN   \n",
       "\n",
       "   nearby_supermarkets nearby_shops  year_built  month_built  \\\n",
       "0                 16.0           20        2011         June   \n",
       "1                 11.0           20        2012    September   \n",
       "\n",
       "                                          facilities    price  \n",
       "0  [Car Park, Community Garden, CCTV, Fitness cor...  8500000  \n",
       "1  [CCTV, Fitness corner, 24 hours security, Swim...  5900000  \n",
       "\n",
       "[2 rows x 23 columns]"
      ]
     },
     "execution_count": 3,
     "metadata": {},
     "output_type": "execute_result"
    }
   ],
   "source": [
    "train_df.head(2) #Sea features and how data was recorded"
   ]
  },
  {
   "cell_type": "code",
   "execution_count": 4,
   "metadata": {
    "tags": []
   },
   "outputs": [
    {
     "data": {
      "text/plain": [
       "Index(['id', 'province', 'district', 'subdistrict', 'address', 'property_type',\n",
       "       'total_units', 'bedrooms', 'baths', 'floor_area', 'floor_level',\n",
       "       'land_area', 'latitude', 'longitude', 'nearby_stations',\n",
       "       'nearby_station_distance', 'nearby_bus_stops', 'nearby_supermarkets',\n",
       "       'nearby_shops', 'year_built', 'month_built', 'facilities', 'price'],\n",
       "      dtype='object')"
      ]
     },
     "execution_count": 4,
     "metadata": {},
     "output_type": "execute_result"
    }
   ],
   "source": [
    "train_df.columns #Explore all features"
   ]
  },
  {
   "cell_type": "code",
   "execution_count": 5,
   "metadata": {
    "tags": []
   },
   "outputs": [
    {
     "data": {
      "text/plain": [
       "(14271, 23)"
      ]
     },
     "execution_count": 5,
     "metadata": {},
     "output_type": "execute_result"
    }
   ],
   "source": [
    "train_df.shape #### train data : 14,271 rows x 23 columns including `price`"
   ]
  },
  {
   "cell_type": "code",
   "execution_count": 6,
   "metadata": {},
   "outputs": [
    {
     "data": {
      "text/html": [
       "<div>\n",
       "<style scoped>\n",
       "    .dataframe tbody tr th:only-of-type {\n",
       "        vertical-align: middle;\n",
       "    }\n",
       "\n",
       "    .dataframe tbody tr th {\n",
       "        vertical-align: top;\n",
       "    }\n",
       "\n",
       "    .dataframe thead th {\n",
       "        text-align: right;\n",
       "    }\n",
       "</style>\n",
       "<table border=\"1\" class=\"dataframe\">\n",
       "  <thead>\n",
       "    <tr style=\"text-align: right;\">\n",
       "      <th></th>\n",
       "      <th>id</th>\n",
       "      <th>province</th>\n",
       "      <th>district</th>\n",
       "      <th>subdistrict</th>\n",
       "      <th>address</th>\n",
       "      <th>property_type</th>\n",
       "      <th>total_units</th>\n",
       "      <th>bedrooms</th>\n",
       "      <th>baths</th>\n",
       "      <th>floor_area</th>\n",
       "      <th>...</th>\n",
       "      <th>latitude</th>\n",
       "      <th>longitude</th>\n",
       "      <th>nearby_stations</th>\n",
       "      <th>nearby_station_distance</th>\n",
       "      <th>nearby_bus_stops</th>\n",
       "      <th>nearby_supermarkets</th>\n",
       "      <th>nearby_shops</th>\n",
       "      <th>year_built</th>\n",
       "      <th>month_built</th>\n",
       "      <th>facilities</th>\n",
       "    </tr>\n",
       "  </thead>\n",
       "  <tbody>\n",
       "    <tr>\n",
       "      <th>0</th>\n",
       "      <td>10317868</td>\n",
       "      <td>Samut Prakan</td>\n",
       "      <td>Bang Phli</td>\n",
       "      <td>Bang Phli Yai</td>\n",
       "      <td>Nam Daeng Road Yai</td>\n",
       "      <td>Detached House</td>\n",
       "      <td>800.0</td>\n",
       "      <td>4.0</td>\n",
       "      <td>3.0</td>\n",
       "      <td>120</td>\n",
       "      <td>...</td>\n",
       "      <td>13.614196</td>\n",
       "      <td>100.680610</td>\n",
       "      <td>0</td>\n",
       "      <td>None</td>\n",
       "      <td>NaN</td>\n",
       "      <td>9.0</td>\n",
       "      <td>5</td>\n",
       "      <td>0</td>\n",
       "      <td>None</td>\n",
       "      <td>[Clubhouse, Community Garden, CCTV, Pavillion,...</td>\n",
       "    </tr>\n",
       "    <tr>\n",
       "      <th>1</th>\n",
       "      <td>10885829</td>\n",
       "      <td>Bangkok</td>\n",
       "      <td>Nong Khaem</td>\n",
       "      <td>Nong Khang Phlu</td>\n",
       "      <td>Machareon Road</td>\n",
       "      <td>Detached House</td>\n",
       "      <td>107.0</td>\n",
       "      <td>4.0</td>\n",
       "      <td>3.0</td>\n",
       "      <td>188</td>\n",
       "      <td>...</td>\n",
       "      <td>13.702222</td>\n",
       "      <td>100.341833</td>\n",
       "      <td>0</td>\n",
       "      <td>None</td>\n",
       "      <td>20.0</td>\n",
       "      <td>9.0</td>\n",
       "      <td>5</td>\n",
       "      <td>2020</td>\n",
       "      <td>None</td>\n",
       "      <td>[Car Park, Clubhouse, Community Garden, CCTV, ...</td>\n",
       "    </tr>\n",
       "  </tbody>\n",
       "</table>\n",
       "<p>2 rows × 22 columns</p>\n",
       "</div>"
      ],
      "text/plain": [
       "         id      province    district      subdistrict             address  \\\n",
       "0  10317868  Samut Prakan   Bang Phli    Bang Phli Yai  Nam Daeng Road Yai   \n",
       "1  10885829       Bangkok  Nong Khaem  Nong Khang Phlu      Machareon Road   \n",
       "\n",
       "    property_type  total_units  bedrooms  baths  floor_area  ...   latitude  \\\n",
       "0  Detached House        800.0       4.0    3.0         120  ...  13.614196   \n",
       "1  Detached House        107.0       4.0    3.0         188  ...  13.702222   \n",
       "\n",
       "    longitude  nearby_stations  nearby_station_distance  nearby_bus_stops  \\\n",
       "0  100.680610                0                     None               NaN   \n",
       "1  100.341833                0                     None              20.0   \n",
       "\n",
       "  nearby_supermarkets  nearby_shops  year_built  month_built  \\\n",
       "0                 9.0             5           0         None   \n",
       "1                 9.0             5        2020         None   \n",
       "\n",
       "                                          facilities  \n",
       "0  [Clubhouse, Community Garden, CCTV, Pavillion,...  \n",
       "1  [Car Park, Clubhouse, Community Garden, CCTV, ...  \n",
       "\n",
       "[2 rows x 22 columns]"
      ]
     },
     "execution_count": 6,
     "metadata": {},
     "output_type": "execute_result"
    }
   ],
   "source": [
    "test_df.head(2) #No price column"
   ]
  },
  {
   "cell_type": "code",
   "execution_count": 7,
   "metadata": {
    "tags": []
   },
   "outputs": [
    {
     "data": {
      "text/plain": [
       "(2500, 22)"
      ]
     },
     "execution_count": 7,
     "metadata": {},
     "output_type": "execute_result"
    }
   ],
   "source": [
    "test_df.shape #### test data : 2,500 rows x 22 columns w/o `price`"
   ]
  },
  {
   "cell_type": "markdown",
   "metadata": {},
   "source": [
    "# *Model 1: Null Model*"
   ]
  },
  {
   "cell_type": "code",
   "execution_count": 8,
   "metadata": {},
   "outputs": [
    {
     "data": {
      "text/plain": [
       "4044123.9205381544"
      ]
     },
     "execution_count": 8,
     "metadata": {},
     "output_type": "execute_result"
    }
   ],
   "source": [
    "model1 = train_df['price'].mean() # illustrate null model\n",
    "model1 #mean value"
   ]
  },
  {
   "cell_type": "code",
   "execution_count": 9,
   "metadata": {
    "tags": []
   },
   "outputs": [],
   "source": [
    "model1_array = pd.DataFrame(train_df, columns=['price'])\n",
    "model1_array['price'] = model1 #create dataframe for predicted price"
   ]
  },
  {
   "cell_type": "code",
   "execution_count": 10,
   "metadata": {
    "tags": []
   },
   "outputs": [
    {
     "name": "stdout",
     "output_type": "stream",
     "text": [
      "4751669199138.787\n"
     ]
    },
    {
     "data": {
      "text/plain": [
       "4751669199138.787"
      ]
     },
     "execution_count": 10,
     "metadata": {},
     "output_type": "execute_result"
    }
   ],
   "source": [
    "#MSE Model1 prompt & hand\n",
    "print(mean_squared_error(train_df['price'], model1_array['price']))\n",
    "\n",
    "residual = train_df['price']-train_df['price'].mean()\n",
    "mse = np.mean(residual**2)\n",
    "mse"
   ]
  },
  {
   "cell_type": "code",
   "execution_count": 11,
   "metadata": {
    "tags": []
   },
   "outputs": [
    {
     "data": {
      "text/plain": [
       "4751669199138.787"
      ]
     },
     "execution_count": 11,
     "metadata": {},
     "output_type": "execute_result"
    }
   ],
   "source": [
    "#SST \n",
    "null_mse = np.mean((train_df['price']-train_df['price'].mean())**2)\n",
    "null_mse"
   ]
  },
  {
   "cell_type": "code",
   "execution_count": 12,
   "metadata": {
    "tags": []
   },
   "outputs": [
    {
     "name": "stdout",
     "output_type": "stream",
     "text": [
      "2179832.3786793305\n",
      "2179832.3786793305\n"
     ]
    }
   ],
   "source": [
    "#RMSE prompt & hand\n",
    "print(np.sqrt(mse))\n",
    "print(mean_squared_error(train_df['price'], model1_array['price'], squared=False))"
   ]
  },
  {
   "cell_type": "code",
   "execution_count": 13,
   "metadata": {
    "tags": []
   },
   "outputs": [
    {
     "data": {
      "text/plain": [
       "0.0"
      ]
     },
     "execution_count": 13,
     "metadata": {},
     "output_type": "execute_result"
    }
   ],
   "source": [
    "# The R2 hand\n",
    "1 - mse/null_mse"
   ]
  },
  {
   "cell_type": "markdown",
   "metadata": {},
   "source": [
    "# Train Sheet : Exploratory Data Analysis"
   ]
  },
  {
   "cell_type": "code",
   "execution_count": 14,
   "metadata": {},
   "outputs": [
    {
     "data": {
      "text/plain": [
       "(Index(['id', 'province', 'district', 'subdistrict', 'address', 'property_type',\n",
       "        'total_units', 'bedrooms', 'baths', 'floor_area', 'floor_level',\n",
       "        'land_area', 'latitude', 'longitude', 'nearby_stations',\n",
       "        'nearby_station_distance', 'nearby_bus_stops', 'nearby_supermarkets',\n",
       "        'nearby_shops', 'year_built', 'month_built', 'facilities', 'price'],\n",
       "       dtype='object'),\n",
       " (14271, 23))"
      ]
     },
     "execution_count": 14,
     "metadata": {},
     "output_type": "execute_result"
    }
   ],
   "source": [
    "\n",
    "train_df.columns, train_df.shape #Looking all possible features and counts, also see how many data rows were given"
   ]
  },
  {
   "cell_type": "code",
   "execution_count": 15,
   "metadata": {},
   "outputs": [
    {
     "name": "stdout",
     "output_type": "stream",
     "text": [
      "<class 'pandas.core.frame.DataFrame'>\n",
      "RangeIndex: 14271 entries, 0 to 14270\n",
      "Data columns (total 23 columns):\n",
      " #   Column                   Non-Null Count  Dtype  \n",
      "---  ------                   --------------  -----  \n",
      " 0   id                       14271 non-null  int64  \n",
      " 1   province                 14271 non-null  object \n",
      " 2   district                 14271 non-null  object \n",
      " 3   subdistrict              14260 non-null  object \n",
      " 4   address                  14271 non-null  object \n",
      " 5   property_type            14271 non-null  object \n",
      " 6   total_units              10509 non-null  float64\n",
      " 7   bedrooms                 14228 non-null  float64\n",
      " 8   baths                    14236 non-null  float64\n",
      " 9   floor_area               14271 non-null  int64  \n",
      " 10  floor_level              8093 non-null   float64\n",
      " 11  land_area                4917 non-null   float64\n",
      " 12  latitude                 14271 non-null  float64\n",
      " 13  longitude                14271 non-null  float64\n",
      " 14  nearby_stations          14271 non-null  int64  \n",
      " 15  nearby_station_distance  7228 non-null   object \n",
      " 16  nearby_bus_stops         6009 non-null   float64\n",
      " 17  nearby_supermarkets      13885 non-null  float64\n",
      " 18  nearby_shops             14271 non-null  int64  \n",
      " 19  year_built               14271 non-null  int64  \n",
      " 20  month_built              8397 non-null   object \n",
      " 21  facilities               14271 non-null  object \n",
      " 22  price                    14271 non-null  int64  \n",
      "dtypes: float64(9), int64(6), object(8)\n",
      "memory usage: 2.5+ MB\n"
     ]
    },
    {
     "data": {
      "image/png": "[encoded data removed]",
      "text/plain": [
       "<Figure size 2500x1000 with 2 Axes>"
      ]
     },
     "metadata": {},
     "output_type": "display_data"
    }
   ],
   "source": [
    "## Plot matrix to see any missing values (null) in each features and see if there are some that we can't be used of\n",
    "train_df.info()\n",
    "msno.matrix(train_df);  "
   ]
  },
  {
   "cell_type": "code",
   "execution_count": 16,
   "metadata": {
    "tags": []
   },
   "outputs": [
    {
     "data": {
      "image/png": "[encoded data removed]",
      "text/plain": [
       "<Figure size 1600x500 with 2 Axes>"
      ]
     },
     "metadata": {},
     "output_type": "display_data"
    }
   ],
   "source": [
    "corr= train_df.corr(numeric_only=True)\n",
    "mask= np.zeros_like(corr)\n",
    "mask[np.triu_indices_from(mask)] =1\n",
    "plt.figure(figsize=(16, 5))\n",
    "sns.heatmap(train_df.corr(numeric_only=True), mask=mask, annot=True, cmap='Blues');\n",
    "\n",
    "##Plot correlation graph and masked it to see existing numeric data and its correlation for features selection"
   ]
  },
  {
   "cell_type": "code",
   "execution_count": 17,
   "metadata": {
    "tags": []
   },
   "outputs": [
    {
     "data": {
      "image/png": "[encoded data removed]",
      "text/plain": [
       "<Figure size 640x480 with 2 Axes>"
      ]
     },
     "metadata": {},
     "output_type": "display_data"
    }
   ],
   "source": [
    "sns.heatmap(train_df.corr(numeric_only=True)[['price']], annot=True, cmap='Blues');\n",
    "##Plot correlation to compare with price for features selection"
   ]
  },
  {
   "cell_type": "code",
   "execution_count": 18,
   "metadata": {},
   "outputs": [
    {
     "data": {
      "text/plain": [
       "facilities\n",
       "24 hours security    11675\n",
       "CCTV                 10504\n",
       "Swimming pool         9993\n",
       "Fitness corner        9148\n",
       "Covered car park      6182\n",
       "Car Park              5533\n",
       "Community Garden      3528\n",
       "Lift lobby            3195\n",
       "Gymnasium room        2661\n",
       "Clubhouse             2492\n",
       "Library               2251\n",
       "Mini-Mart             2121\n",
       "Sauna                 2053\n",
       "Playground            2045\n",
       "Steam bath            1345\n",
       "Name: count, dtype: int64"
      ]
     },
     "execution_count": 18,
     "metadata": {},
     "output_type": "execute_result"
    }
   ],
   "source": [
    "df = train_df['facilities'].explode('list_column').value_counts()\n",
    "df.head(15) #Explore data in facility column and see top 15 facilities"
   ]
  },
  {
   "cell_type": "code",
   "execution_count": 19,
   "metadata": {
    "tags": []
   },
   "outputs": [
    {
     "name": "stdout",
     "output_type": "stream",
     "text": [
      "[6, 4]\n"
     ]
    },
    {
     "data": {
      "text/html": [
       "<div>\n",
       "<style scoped>\n",
       "    .dataframe tbody tr th:only-of-type {\n",
       "        vertical-align: middle;\n",
       "    }\n",
       "\n",
       "    .dataframe tbody tr th {\n",
       "        vertical-align: top;\n",
       "    }\n",
       "\n",
       "    .dataframe thead th {\n",
       "        text-align: right;\n",
       "    }\n",
       "</style>\n",
       "<table border=\"1\" class=\"dataframe\">\n",
       "  <thead>\n",
       "    <tr style=\"text-align: right;\">\n",
       "      <th></th>\n",
       "      <th>Facility</th>\n",
       "    </tr>\n",
       "  </thead>\n",
       "  <tbody>\n",
       "    <tr>\n",
       "      <th>0</th>\n",
       "      <td>6</td>\n",
       "    </tr>\n",
       "    <tr>\n",
       "      <th>1</th>\n",
       "      <td>4</td>\n",
       "    </tr>\n",
       "  </tbody>\n",
       "</table>\n",
       "</div>"
      ],
      "text/plain": [
       "   Facility\n",
       "0         6\n",
       "1         4"
      ]
     },
     "execution_count": 19,
     "metadata": {},
     "output_type": "execute_result"
    }
   ],
   "source": [
    "#Create Function to count facility in train sheet for each row\n",
    "Facility =[] #create empty list \n",
    "for i in range(len(train_df['facilities'])): #iterate in all rows\n",
    "    f_count =train_df['facilities'][i:i+1].explode('list_column').count() #count item in list in each row\n",
    "    Facility.append(f_count) #add to list\n",
    "print(Facility[:2])\n",
    "df_fac = pd.DataFrame(Facility, columns=['Facility']) #list to dataframe\n",
    "df_fac.head(2)  #see results"
   ]
  },
  {
   "cell_type": "code",
   "execution_count": 20,
   "metadata": {
    "tags": []
   },
   "outputs": [
    {
     "name": "stdout",
     "output_type": "stream",
     "text": [
      "[6, 6]\n"
     ]
    },
    {
     "data": {
      "text/html": [
       "<div>\n",
       "<style scoped>\n",
       "    .dataframe tbody tr th:only-of-type {\n",
       "        vertical-align: middle;\n",
       "    }\n",
       "\n",
       "    .dataframe tbody tr th {\n",
       "        vertical-align: top;\n",
       "    }\n",
       "\n",
       "    .dataframe thead th {\n",
       "        text-align: right;\n",
       "    }\n",
       "</style>\n",
       "<table border=\"1\" class=\"dataframe\">\n",
       "  <thead>\n",
       "    <tr style=\"text-align: right;\">\n",
       "      <th></th>\n",
       "      <th>Facility</th>\n",
       "    </tr>\n",
       "  </thead>\n",
       "  <tbody>\n",
       "    <tr>\n",
       "      <th>0</th>\n",
       "      <td>6</td>\n",
       "    </tr>\n",
       "    <tr>\n",
       "      <th>1</th>\n",
       "      <td>4</td>\n",
       "    </tr>\n",
       "  </tbody>\n",
       "</table>\n",
       "</div>"
      ],
      "text/plain": [
       "   Facility\n",
       "0         6\n",
       "1         4"
      ]
     },
     "execution_count": 20,
     "metadata": {},
     "output_type": "execute_result"
    }
   ],
   "source": [
    "#Create Function to count facility in test sheet for each row\n",
    "test_facility =[] #create empty list \n",
    "for i in range(len(test_df['facilities'])): #iterate in all rows\n",
    "    f_count =test_df['facilities'][i:i+1].explode('list_column').count() #count item in list in each row\n",
    "    test_facility.append(f_count)  #add to list\n",
    "print(test_facility[:2])\n",
    "df_testfac = pd.DataFrame(Facility, columns=['Facility']) #list to dataframe\n",
    "df_testfac.head(2) #see results"
   ]
  },
  {
   "cell_type": "markdown",
   "metadata": {
    "tags": []
   },
   "source": [
    "# *Model 2: Believing that Latitude and Longtitude will be sufficient for location based features*"
   ]
  },
  {
   "cell_type": "code",
   "execution_count": 21,
   "metadata": {},
   "outputs": [],
   "source": [
    "#Add features to model2\n",
    "model2 = train_df[['property_type','total_units','bedrooms','baths','floor_area','latitude','longitude','nearby_stations','nearby_supermarkets','nearby_shops','year_built','price']]"
   ]
  },
  {
   "cell_type": "code",
   "execution_count": 22,
   "metadata": {},
   "outputs": [
    {
     "data": {
      "text/html": [
       "<div>\n",
       "<style scoped>\n",
       "    .dataframe tbody tr th:only-of-type {\n",
       "        vertical-align: middle;\n",
       "    }\n",
       "\n",
       "    .dataframe tbody tr th {\n",
       "        vertical-align: top;\n",
       "    }\n",
       "\n",
       "    .dataframe thead th {\n",
       "        text-align: right;\n",
       "    }\n",
       "</style>\n",
       "<table border=\"1\" class=\"dataframe\">\n",
       "  <thead>\n",
       "    <tr style=\"text-align: right;\">\n",
       "      <th></th>\n",
       "      <th>total_units</th>\n",
       "      <th>bedrooms</th>\n",
       "      <th>baths</th>\n",
       "      <th>floor_area</th>\n",
       "      <th>latitude</th>\n",
       "      <th>longitude</th>\n",
       "      <th>nearby_stations</th>\n",
       "      <th>nearby_supermarkets</th>\n",
       "      <th>nearby_shops</th>\n",
       "      <th>year_built</th>\n",
       "      <th>price</th>\n",
       "      <th>property_type_Detached House</th>\n",
       "      <th>property_type_Townhouse</th>\n",
       "      <th>Facility</th>\n",
       "    </tr>\n",
       "  </thead>\n",
       "  <tbody>\n",
       "    <tr>\n",
       "      <th>0</th>\n",
       "      <td>273.0</td>\n",
       "      <td>2.0</td>\n",
       "      <td>2.0</td>\n",
       "      <td>66</td>\n",
       "      <td>13.721944</td>\n",
       "      <td>100.584850</td>\n",
       "      <td>2</td>\n",
       "      <td>16.0</td>\n",
       "      <td>20</td>\n",
       "      <td>2011</td>\n",
       "      <td>8500000</td>\n",
       "      <td>False</td>\n",
       "      <td>False</td>\n",
       "      <td>6</td>\n",
       "    </tr>\n",
       "    <tr>\n",
       "      <th>1</th>\n",
       "      <td>74.0</td>\n",
       "      <td>1.0</td>\n",
       "      <td>1.0</td>\n",
       "      <td>49</td>\n",
       "      <td>13.741904</td>\n",
       "      <td>100.566949</td>\n",
       "      <td>3</td>\n",
       "      <td>11.0</td>\n",
       "      <td>20</td>\n",
       "      <td>2012</td>\n",
       "      <td>5900000</td>\n",
       "      <td>False</td>\n",
       "      <td>False</td>\n",
       "      <td>4</td>\n",
       "    </tr>\n",
       "  </tbody>\n",
       "</table>\n",
       "</div>"
      ],
      "text/plain": [
       "   total_units  bedrooms  baths  floor_area   latitude   longitude  \\\n",
       "0        273.0       2.0    2.0          66  13.721944  100.584850   \n",
       "1         74.0       1.0    1.0          49  13.741904  100.566949   \n",
       "\n",
       "   nearby_stations  nearby_supermarkets  nearby_shops  year_built    price  \\\n",
       "0                2                 16.0            20        2011  8500000   \n",
       "1                3                 11.0            20        2012  5900000   \n",
       "\n",
       "   property_type_Detached House  property_type_Townhouse  Facility  \n",
       "0                         False                    False         6  \n",
       "1                         False                    False         4  "
      ]
     },
     "execution_count": 22,
     "metadata": {},
     "output_type": "execute_result"
    }
   ],
   "source": [
    "model2 = pd.get_dummies(model2,columns=['property_type'], drop_first=True) # Dummify property type\n",
    "model2['Facility'] = df_fac['Facility'] #Add facility to model2\n",
    "model2.head(2) #see result"
   ]
  },
  {
   "cell_type": "code",
   "execution_count": 23,
   "metadata": {},
   "outputs": [
    {
     "name": "stdout",
     "output_type": "stream",
     "text": [
      "False    13257\n",
      "True      1014\n",
      "Name: count, dtype: int64\n",
      "False    13257\n",
      "Name: count, dtype: int64\n"
     ]
    }
   ],
   "source": [
    "print(model2.duplicated().value_counts()) \n",
    "model2.drop_duplicates(inplace=True) #drop duplicated rows\n",
    "print(model2.duplicated().value_counts())"
   ]
  },
  {
   "cell_type": "code",
   "execution_count": 24,
   "metadata": {},
   "outputs": [
    {
     "name": "stdout",
     "output_type": "stream",
     "text": [
      "total_units                     3731\n",
      "bedrooms                          43\n",
      "baths                             35\n",
      "floor_area                         0\n",
      "latitude                           0\n",
      "longitude                          0\n",
      "nearby_stations                    0\n",
      "nearby_supermarkets              370\n",
      "nearby_shops                       0\n",
      "year_built                         0\n",
      "price                              0\n",
      "property_type_Detached House       0\n",
      "property_type_Townhouse            0\n",
      "Facility                           0\n",
      "dtype: int64\n",
      "(13257, 14)\n"
     ]
    }
   ],
   "source": [
    "print(model2.isnull().sum()) #see nulls in all coulmns\n",
    "print(model2.shape) #explore rows"
   ]
  },
  {
   "cell_type": "code",
   "execution_count": 25,
   "metadata": {},
   "outputs": [
    {
     "name": "stdout",
     "output_type": "stream",
     "text": [
      "total_units\n",
      "1232.0    0.006613\n",
      "940.0     0.006089\n",
      "79.0      0.005879\n",
      "496.0     0.005564\n",
      "376.0     0.005354\n",
      "            ...   \n",
      "622.0     0.000105\n",
      "801.0     0.000105\n",
      "528.0     0.000105\n",
      "32.0      0.000105\n",
      "1132.0    0.000105\n",
      "Name: proportion, Length: 835, dtype: float64\n",
      "count    9526.000000\n",
      "mean      697.749108\n",
      "std       546.437239\n",
      "min         1.000000\n",
      "25%       310.000000\n",
      "50%       539.000000\n",
      "75%       939.000000\n",
      "max      4000.000000\n",
      "Name: total_units, dtype: float64\n",
      "0    1232.0\n",
      "Name: total_units, dtype: float64\n",
      "539.0\n"
     ]
    }
   ],
   "source": [
    "#Decide what to fill for missing value in 'total units' features\n",
    "print(model2['total_units'].value_counts(normalize=True))  \n",
    "print(model2['total_units'].describe())\n",
    "print(model2['total_units'].mode())\n",
    "print(model2['total_units'].median())"
   ]
  },
  {
   "cell_type": "code",
   "execution_count": 26,
   "metadata": {},
   "outputs": [
    {
     "name": "stdout",
     "output_type": "stream",
     "text": [
      "total_units                     0\n",
      "bedrooms                        0\n",
      "baths                           0\n",
      "floor_area                      0\n",
      "latitude                        0\n",
      "longitude                       0\n",
      "nearby_stations                 0\n",
      "nearby_supermarkets             0\n",
      "nearby_shops                    0\n",
      "year_built                      0\n",
      "price                           0\n",
      "property_type_Detached House    0\n",
      "property_type_Townhouse         0\n",
      "Facility                        0\n",
      "dtype: int64\n",
      "(12845, 14)\n"
     ]
    }
   ],
   "source": [
    "model2['total_units'].fillna(model2['total_units'].median(),inplace=True) #Fill na in total units with median\n",
    "model2.dropna(inplace=True) #drop missing values that comes from 43 bedrooms 35 baths and 370 nearby supermarkets\n",
    "print(model2.isnull().sum()) #re-check\n",
    "print(model2.shape) #check remaining rows"
   ]
  },
  {
   "cell_type": "code",
   "execution_count": 27,
   "metadata": {},
   "outputs": [
    {
     "data": {
      "image/png": "[encoded data removed]",
      "text/plain": [
       "<Figure size 1600x500 with 2 Axes>"
      ]
     },
     "metadata": {},
     "output_type": "display_data"
    }
   ],
   "source": [
    "corr= model2.corr(numeric_only=True) #plot correlation graph to see how each features correlated in this model\n",
    "mask= np.zeros_like(corr) #mask upper duplicates\n",
    "mask[np.triu_indices_from(mask)] =1\n",
    "plt.figure(figsize=(16, 5))\n",
    "sns.heatmap(model2.corr(), mask=mask, annot=True, cmap='Blues');\n",
    "\n",
    "#Seems dummified property type is a good idea"
   ]
  },
  {
   "cell_type": "markdown",
   "metadata": {},
   "source": [
    "## Train Sheet // Fit Model + Predict"
   ]
  },
  {
   "cell_type": "code",
   "execution_count": 28,
   "metadata": {},
   "outputs": [],
   "source": [
    "#Define X and Y in model2\n",
    "X = model2[['total_units', 'bedrooms', 'baths', 'floor_area', 'latitude',\n",
    "       'longitude', 'nearby_stations', 'nearby_supermarkets', 'nearby_shops',\n",
    "       'year_built', 'property_type_Detached House',\n",
    "       'property_type_Townhouse', 'Facility']]\n",
    "y = model2['price']"
   ]
  },
  {
   "cell_type": "code",
   "execution_count": 29,
   "metadata": {},
   "outputs": [],
   "source": [
    "#Split test preparation for cross validation\n",
    "X_train, X_test, y_train, y_test = train_test_split(X,y,test_size=0.8, random_state=42)"
   ]
  },
  {
   "cell_type": "code",
   "execution_count": 30,
   "metadata": {},
   "outputs": [
    {
     "data": {
      "text/plain": [
       "0.4806585094615386"
      ]
     },
     "execution_count": 30,
     "metadata": {},
     "output_type": "execute_result"
    }
   ],
   "source": [
    "#Fit Model \n",
    "lr = LinearRegression()\n",
    "fit_model2 = lr.fit(X_train, y_train)\n",
    "#R2 Train CV\n",
    "cross_val_score(lr, X_train, y_train, cv=10).mean()"
   ]
  },
  {
   "cell_type": "code",
   "execution_count": 31,
   "metadata": {},
   "outputs": [
    {
     "data": {
      "text/plain": [
       "0.5068646139728228"
      ]
     },
     "execution_count": 31,
     "metadata": {},
     "output_type": "execute_result"
    }
   ],
   "source": [
    "#R2 unseen\n",
    "lr.score(X_test, y_test)"
   ]
  },
  {
   "cell_type": "code",
   "execution_count": 32,
   "metadata": {},
   "outputs": [
    {
     "data": {
      "text/plain": [
       "1528639.2990753711"
      ]
     },
     "execution_count": 32,
     "metadata": {},
     "output_type": "execute_result"
    }
   ],
   "source": [
    "#RMSE\n",
    "y_pred2 = fit_model2.predict(X)\n",
    "mean_squared_error(y, y_pred2, squared=False)"
   ]
  },
  {
   "cell_type": "code",
   "execution_count": 33,
   "metadata": {},
   "outputs": [],
   "source": [
    "## No scaling and regularization since our model is underfit maybe considering"
   ]
  },
  {
   "cell_type": "markdown",
   "metadata": {},
   "source": [
    "## Test Model // EDA to fill N/A"
   ]
  },
  {
   "cell_type": "code",
   "execution_count": 34,
   "metadata": {},
   "outputs": [
    {
     "data": {
      "text/plain": [
       "id                                0\n",
       "total_units                     642\n",
       "bedrooms                         10\n",
       "baths                            10\n",
       "floor_area                        0\n",
       "latitude                          0\n",
       "longitude                         0\n",
       "nearby_stations                   0\n",
       "nearby_supermarkets              86\n",
       "nearby_shops                      0\n",
       "year_built                        0\n",
       "property_type_Detached House      0\n",
       "property_type_Townhouse           0\n",
       "Facility                          0\n",
       "dtype: int64"
      ]
     },
     "execution_count": 34,
     "metadata": {},
     "output_type": "execute_result"
    }
   ],
   "source": [
    "#Mimic Train features and repeat cleansing method as train model\n",
    "test_model2 = test_df[['id','property_type','total_units','bedrooms','baths','floor_area','latitude','longitude','nearby_stations','nearby_supermarkets','nearby_shops','year_built']]\n",
    "test_model2 = pd.get_dummies(test_model2,columns=['property_type'], drop_first=True) #dummify\n",
    "test_model2['Facility'] = df_testfac['Facility'] #add facility count\n",
    "test_model2.isna().sum() #look for missing values"
   ]
  },
  {
   "cell_type": "code",
   "execution_count": 35,
   "metadata": {},
   "outputs": [
    {
     "name": "stdout",
     "output_type": "stream",
     "text": [
      "total_units  bedrooms  baths  nearby_supermarkets\n",
      "497.0        1.0       1.0    9.0                    0.005522\n",
      "339.0        1.0       1.0    8.0                    0.005522\n",
      "940.0        1.0       1.0    20.0                   0.005522\n",
      "1325.0       1.0       1.0    4.0                    0.004970\n",
      "841.0        1.0       1.0    4.0                    0.004417\n",
      "                                                       ...   \n",
      "266.0        1.0       1.0    9.0                    0.000552\n",
      "497.0        2.0       2.0    9.0                    0.000552\n",
      "                              13.0                   0.000552\n",
      "             3.0       3.0    11.0                   0.000552\n",
      "154.0        1.0       1.0    20.0                   0.000552\n",
      "Name: proportion, Length: 1067, dtype: float64\n"
     ]
    }
   ],
   "source": [
    "#Check how data distributed  in portion\n",
    "print(test_model2[['total_units','bedrooms','baths','nearby_supermarkets']].value_counts(normalize=True))\n"
   ]
  },
  {
   "cell_type": "code",
   "execution_count": 36,
   "metadata": {},
   "outputs": [
    {
     "name": "stdout",
     "output_type": "stream",
     "text": [
      "       total_units     bedrooms        baths  nearby_supermarkets\n",
      "count  1858.000000  2490.000000  2490.000000          2414.000000\n",
      "mean    713.160388     1.848193     1.601205             9.140431\n",
      "std     577.473009     1.081384     0.854877             5.439392\n",
      "min       1.000000     1.000000     0.000000             1.000000\n",
      "25%     306.000000     1.000000     1.000000             5.000000\n",
      "50%     539.000000     1.000000     1.000000             8.000000\n",
      "75%     954.000000     3.000000     2.000000            13.000000\n",
      "max    4000.000000    10.000000     6.000000            20.000000\n",
      "   total_units  bedrooms  baths  nearby_supermarkets\n",
      "0        339.0       1.0    1.0                  6.0\n",
      "total_units            539.0\n",
      "bedrooms                 1.0\n",
      "baths                    1.0\n",
      "nearby_supermarkets      8.0\n",
      "dtype: float64\n"
     ]
    }
   ],
   "source": [
    "print(test_model2[['total_units','bedrooms','baths','nearby_supermarkets']].describe()) #see mean and distribution\n",
    "print(test_model2[['total_units','bedrooms','baths','nearby_supermarkets']].mode()) #see mode\n",
    "print(test_model2[['total_units','bedrooms','baths','nearby_supermarkets']].median()) #see median"
   ]
  },
  {
   "cell_type": "code",
   "execution_count": 37,
   "metadata": {},
   "outputs": [],
   "source": [
    "test_model2['total_units'].fillna(test_model2['total_units'].mean(),inplace=True) #fillna in total units with mean\n",
    "test_model2['bedrooms'].fillna(test_model2['bedrooms'].mean(),inplace=True) #fillna in bedroom with mean\n",
    "test_model2['baths'].fillna(test_model2['baths'].mean(),inplace=True) #fillna in baths with mean\n",
    "test_model2['nearby_supermarkets'].fillna(test_model2['nearby_supermarkets'].mean(),inplace=True) #fillna in nearby_supermarkets with mean"
   ]
  },
  {
   "cell_type": "markdown",
   "metadata": {},
   "source": [
    "## Test Sheet // Mimic train model features + predict"
   ]
  },
  {
   "cell_type": "code",
   "execution_count": 38,
   "metadata": {},
   "outputs": [
    {
     "data": {
      "text/html": [
       "<div>\n",
       "<style scoped>\n",
       "    .dataframe tbody tr th:only-of-type {\n",
       "        vertical-align: middle;\n",
       "    }\n",
       "\n",
       "    .dataframe tbody tr th {\n",
       "        vertical-align: top;\n",
       "    }\n",
       "\n",
       "    .dataframe thead th {\n",
       "        text-align: right;\n",
       "    }\n",
       "</style>\n",
       "<table border=\"1\" class=\"dataframe\">\n",
       "  <thead>\n",
       "    <tr style=\"text-align: right;\">\n",
       "      <th></th>\n",
       "      <th>id</th>\n",
       "      <th>total_units</th>\n",
       "      <th>bedrooms</th>\n",
       "      <th>baths</th>\n",
       "      <th>floor_area</th>\n",
       "      <th>latitude</th>\n",
       "      <th>longitude</th>\n",
       "      <th>nearby_stations</th>\n",
       "      <th>nearby_supermarkets</th>\n",
       "      <th>nearby_shops</th>\n",
       "      <th>year_built</th>\n",
       "      <th>property_type_Detached House</th>\n",
       "      <th>property_type_Townhouse</th>\n",
       "      <th>Facility</th>\n",
       "      <th>price</th>\n",
       "    </tr>\n",
       "  </thead>\n",
       "  <tbody>\n",
       "    <tr>\n",
       "      <th>0</th>\n",
       "      <td>10317868</td>\n",
       "      <td>800.0</td>\n",
       "      <td>4.0</td>\n",
       "      <td>3.0</td>\n",
       "      <td>120</td>\n",
       "      <td>13.614196</td>\n",
       "      <td>100.680610</td>\n",
       "      <td>0</td>\n",
       "      <td>9.0</td>\n",
       "      <td>5</td>\n",
       "      <td>0</td>\n",
       "      <td>True</td>\n",
       "      <td>False</td>\n",
       "      <td>6</td>\n",
       "      <td>5.889874e+06</td>\n",
       "    </tr>\n",
       "    <tr>\n",
       "      <th>1</th>\n",
       "      <td>10885829</td>\n",
       "      <td>107.0</td>\n",
       "      <td>4.0</td>\n",
       "      <td>3.0</td>\n",
       "      <td>188</td>\n",
       "      <td>13.702222</td>\n",
       "      <td>100.341833</td>\n",
       "      <td>0</td>\n",
       "      <td>9.0</td>\n",
       "      <td>5</td>\n",
       "      <td>2020</td>\n",
       "      <td>True</td>\n",
       "      <td>False</td>\n",
       "      <td>4</td>\n",
       "      <td>6.403619e+06</td>\n",
       "    </tr>\n",
       "  </tbody>\n",
       "</table>\n",
       "</div>"
      ],
      "text/plain": [
       "         id  total_units  bedrooms  baths  floor_area   latitude   longitude  \\\n",
       "0  10317868        800.0       4.0    3.0         120  13.614196  100.680610   \n",
       "1  10885829        107.0       4.0    3.0         188  13.702222  100.341833   \n",
       "\n",
       "   nearby_stations  nearby_supermarkets  nearby_shops  year_built  \\\n",
       "0                0                  9.0             5           0   \n",
       "1                0                  9.0             5        2020   \n",
       "\n",
       "   property_type_Detached House  property_type_Townhouse  Facility  \\\n",
       "0                          True                    False         6   \n",
       "1                          True                    False         4   \n",
       "\n",
       "          price  \n",
       "0  5.889874e+06  \n",
       "1  6.403619e+06  "
      ]
     },
     "execution_count": 38,
     "metadata": {},
     "output_type": "execute_result"
    }
   ],
   "source": [
    "X2 = test_model2[['total_units', 'bedrooms', 'baths', 'floor_area', 'latitude',\n",
    "       'longitude', 'nearby_stations', 'nearby_supermarkets', 'nearby_shops',\n",
    "       'year_built', 'property_type_Detached House',\n",
    "       'property_type_Townhouse', 'Facility']]  ##Prep features for prediction\n",
    "fit_test_model = lr.fit(X_train, y_train) #fit model\n",
    "test_model2['price'] = fit_test_model.predict(X2) #predict and add in rows\n",
    "test_model2.head(2) #see results"
   ]
  },
  {
   "cell_type": "code",
   "execution_count": 39,
   "metadata": {},
   "outputs": [
    {
     "data": {
      "text/plain": [
       "(2500, 15)"
      ]
     },
     "execution_count": 39,
     "metadata": {},
     "output_type": "execute_result"
    }
   ],
   "source": [
    "test_model2.shape #check rows"
   ]
  },
  {
   "cell_type": "code",
   "execution_count": 40,
   "metadata": {},
   "outputs": [],
   "source": [
    "df_submit = pd.DataFrame(test_model2, columns=['id','price']) #gathers predictions align with ids to match submission format"
   ]
  },
  {
   "cell_type": "code",
   "execution_count": 41,
   "metadata": {},
   "outputs": [],
   "source": [
    "df_submit.to_csv('submission_model2.csv', index=False) #export model2"
   ]
  },
  {
   "cell_type": "markdown",
   "metadata": {},
   "source": [
    "# *Model 3: Province and District play major roles in location based features*"
   ]
  },
  {
   "cell_type": "code",
   "execution_count": 42,
   "metadata": {},
   "outputs": [],
   "source": [
    "#Add features to model3\n",
    "model3 = train_df[['province','district','property_type','total_units','bedrooms','baths','floor_area','nearby_stations','nearby_supermarkets','nearby_shops','year_built','price']]"
   ]
  },
  {
   "cell_type": "code",
   "execution_count": 43,
   "metadata": {},
   "outputs": [
    {
     "data": {
      "text/html": [
       "<div>\n",
       "<style scoped>\n",
       "    .dataframe tbody tr th:only-of-type {\n",
       "        vertical-align: middle;\n",
       "    }\n",
       "\n",
       "    .dataframe tbody tr th {\n",
       "        vertical-align: top;\n",
       "    }\n",
       "\n",
       "    .dataframe thead th {\n",
       "        text-align: right;\n",
       "    }\n",
       "</style>\n",
       "<table border=\"1\" class=\"dataframe\">\n",
       "  <thead>\n",
       "    <tr style=\"text-align: right;\">\n",
       "      <th></th>\n",
       "      <th>province</th>\n",
       "      <th>district</th>\n",
       "      <th>property_type</th>\n",
       "      <th>total_units</th>\n",
       "      <th>bedrooms</th>\n",
       "      <th>baths</th>\n",
       "      <th>floor_area</th>\n",
       "      <th>nearby_stations</th>\n",
       "      <th>nearby_supermarkets</th>\n",
       "      <th>nearby_shops</th>\n",
       "      <th>year_built</th>\n",
       "      <th>price</th>\n",
       "    </tr>\n",
       "  </thead>\n",
       "  <tbody>\n",
       "    <tr>\n",
       "      <th>0</th>\n",
       "      <td>Bangkok</td>\n",
       "      <td>Watthana</td>\n",
       "      <td>Condo</td>\n",
       "      <td>273.0</td>\n",
       "      <td>2.0</td>\n",
       "      <td>2.0</td>\n",
       "      <td>66</td>\n",
       "      <td>2</td>\n",
       "      <td>16.0</td>\n",
       "      <td>20</td>\n",
       "      <td>2011</td>\n",
       "      <td>8500000</td>\n",
       "    </tr>\n",
       "    <tr>\n",
       "      <th>1</th>\n",
       "      <td>Bangkok</td>\n",
       "      <td>Watthana</td>\n",
       "      <td>Condo</td>\n",
       "      <td>74.0</td>\n",
       "      <td>1.0</td>\n",
       "      <td>1.0</td>\n",
       "      <td>49</td>\n",
       "      <td>3</td>\n",
       "      <td>11.0</td>\n",
       "      <td>20</td>\n",
       "      <td>2012</td>\n",
       "      <td>5900000</td>\n",
       "    </tr>\n",
       "  </tbody>\n",
       "</table>\n",
       "</div>"
      ],
      "text/plain": [
       "  province  district property_type  total_units  bedrooms  baths  floor_area  \\\n",
       "0  Bangkok  Watthana         Condo        273.0       2.0    2.0          66   \n",
       "1  Bangkok  Watthana         Condo         74.0       1.0    1.0          49   \n",
       "\n",
       "   nearby_stations  nearby_supermarkets  nearby_shops  year_built    price  \n",
       "0                2                 16.0            20        2011  8500000  \n",
       "1                3                 11.0            20        2012  5900000  "
      ]
     },
     "execution_count": 43,
     "metadata": {},
     "output_type": "execute_result"
    }
   ],
   "source": [
    "#check\n",
    "model3.head(2)"
   ]
  },
  {
   "cell_type": "code",
   "execution_count": 44,
   "metadata": {},
   "outputs": [
    {
     "data": {
      "text/html": [
       "<div>\n",
       "<style scoped>\n",
       "    .dataframe tbody tr th:only-of-type {\n",
       "        vertical-align: middle;\n",
       "    }\n",
       "\n",
       "    .dataframe tbody tr th {\n",
       "        vertical-align: top;\n",
       "    }\n",
       "\n",
       "    .dataframe thead th {\n",
       "        text-align: right;\n",
       "    }\n",
       "</style>\n",
       "<table border=\"1\" class=\"dataframe\">\n",
       "  <thead>\n",
       "    <tr style=\"text-align: right;\">\n",
       "      <th></th>\n",
       "      <th>total_units</th>\n",
       "      <th>bedrooms</th>\n",
       "      <th>baths</th>\n",
       "      <th>floor_area</th>\n",
       "      <th>nearby_stations</th>\n",
       "      <th>nearby_supermarkets</th>\n",
       "      <th>nearby_shops</th>\n",
       "      <th>year_built</th>\n",
       "      <th>price</th>\n",
       "      <th>province_Nonthaburi</th>\n",
       "      <th>...</th>\n",
       "      <th>district_Suan Luang</th>\n",
       "      <th>district_Taling Chan</th>\n",
       "      <th>district_Thawi Watthana</th>\n",
       "      <th>district_Thon Buri</th>\n",
       "      <th>district_Thung Khru</th>\n",
       "      <th>district_Wang Thonglang</th>\n",
       "      <th>district_Watthana</th>\n",
       "      <th>district_Yan Nawa</th>\n",
       "      <th>property_type_Detached House</th>\n",
       "      <th>property_type_Townhouse</th>\n",
       "    </tr>\n",
       "  </thead>\n",
       "  <tbody>\n",
       "    <tr>\n",
       "      <th>0</th>\n",
       "      <td>273.0</td>\n",
       "      <td>2.0</td>\n",
       "      <td>2.0</td>\n",
       "      <td>66</td>\n",
       "      <td>2</td>\n",
       "      <td>16.0</td>\n",
       "      <td>20</td>\n",
       "      <td>2011</td>\n",
       "      <td>8500000</td>\n",
       "      <td>False</td>\n",
       "      <td>...</td>\n",
       "      <td>False</td>\n",
       "      <td>False</td>\n",
       "      <td>False</td>\n",
       "      <td>False</td>\n",
       "      <td>False</td>\n",
       "      <td>False</td>\n",
       "      <td>True</td>\n",
       "      <td>False</td>\n",
       "      <td>False</td>\n",
       "      <td>False</td>\n",
       "    </tr>\n",
       "    <tr>\n",
       "      <th>1</th>\n",
       "      <td>74.0</td>\n",
       "      <td>1.0</td>\n",
       "      <td>1.0</td>\n",
       "      <td>49</td>\n",
       "      <td>3</td>\n",
       "      <td>11.0</td>\n",
       "      <td>20</td>\n",
       "      <td>2012</td>\n",
       "      <td>5900000</td>\n",
       "      <td>False</td>\n",
       "      <td>...</td>\n",
       "      <td>False</td>\n",
       "      <td>False</td>\n",
       "      <td>False</td>\n",
       "      <td>False</td>\n",
       "      <td>False</td>\n",
       "      <td>False</td>\n",
       "      <td>True</td>\n",
       "      <td>False</td>\n",
       "      <td>False</td>\n",
       "      <td>False</td>\n",
       "    </tr>\n",
       "    <tr>\n",
       "      <th>2</th>\n",
       "      <td>940.0</td>\n",
       "      <td>1.0</td>\n",
       "      <td>1.0</td>\n",
       "      <td>34</td>\n",
       "      <td>2</td>\n",
       "      <td>20.0</td>\n",
       "      <td>20</td>\n",
       "      <td>2017</td>\n",
       "      <td>6290000</td>\n",
       "      <td>False</td>\n",
       "      <td>...</td>\n",
       "      <td>False</td>\n",
       "      <td>False</td>\n",
       "      <td>False</td>\n",
       "      <td>False</td>\n",
       "      <td>False</td>\n",
       "      <td>False</td>\n",
       "      <td>False</td>\n",
       "      <td>False</td>\n",
       "      <td>False</td>\n",
       "      <td>False</td>\n",
       "    </tr>\n",
       "    <tr>\n",
       "      <th>3</th>\n",
       "      <td>NaN</td>\n",
       "      <td>3.0</td>\n",
       "      <td>3.0</td>\n",
       "      <td>170</td>\n",
       "      <td>0</td>\n",
       "      <td>2.0</td>\n",
       "      <td>4</td>\n",
       "      <td>0</td>\n",
       "      <td>8900000</td>\n",
       "      <td>True</td>\n",
       "      <td>...</td>\n",
       "      <td>False</td>\n",
       "      <td>False</td>\n",
       "      <td>False</td>\n",
       "      <td>False</td>\n",
       "      <td>False</td>\n",
       "      <td>False</td>\n",
       "      <td>False</td>\n",
       "      <td>False</td>\n",
       "      <td>True</td>\n",
       "      <td>False</td>\n",
       "    </tr>\n",
       "    <tr>\n",
       "      <th>4</th>\n",
       "      <td>NaN</td>\n",
       "      <td>3.0</td>\n",
       "      <td>2.0</td>\n",
       "      <td>120</td>\n",
       "      <td>1</td>\n",
       "      <td>6.0</td>\n",
       "      <td>15</td>\n",
       "      <td>0</td>\n",
       "      <td>2390000</td>\n",
       "      <td>True</td>\n",
       "      <td>...</td>\n",
       "      <td>False</td>\n",
       "      <td>False</td>\n",
       "      <td>False</td>\n",
       "      <td>False</td>\n",
       "      <td>False</td>\n",
       "      <td>False</td>\n",
       "      <td>False</td>\n",
       "      <td>False</td>\n",
       "      <td>False</td>\n",
       "      <td>True</td>\n",
       "    </tr>\n",
       "    <tr>\n",
       "      <th>...</th>\n",
       "      <td>...</td>\n",
       "      <td>...</td>\n",
       "      <td>...</td>\n",
       "      <td>...</td>\n",
       "      <td>...</td>\n",
       "      <td>...</td>\n",
       "      <td>...</td>\n",
       "      <td>...</td>\n",
       "      <td>...</td>\n",
       "      <td>...</td>\n",
       "      <td>...</td>\n",
       "      <td>...</td>\n",
       "      <td>...</td>\n",
       "      <td>...</td>\n",
       "      <td>...</td>\n",
       "      <td>...</td>\n",
       "      <td>...</td>\n",
       "      <td>...</td>\n",
       "      <td>...</td>\n",
       "      <td>...</td>\n",
       "      <td>...</td>\n",
       "    </tr>\n",
       "    <tr>\n",
       "      <th>14266</th>\n",
       "      <td>648.0</td>\n",
       "      <td>2.0</td>\n",
       "      <td>1.0</td>\n",
       "      <td>58</td>\n",
       "      <td>2</td>\n",
       "      <td>14.0</td>\n",
       "      <td>11</td>\n",
       "      <td>2015</td>\n",
       "      <td>4000000</td>\n",
       "      <td>True</td>\n",
       "      <td>...</td>\n",
       "      <td>False</td>\n",
       "      <td>False</td>\n",
       "      <td>False</td>\n",
       "      <td>False</td>\n",
       "      <td>False</td>\n",
       "      <td>False</td>\n",
       "      <td>False</td>\n",
       "      <td>False</td>\n",
       "      <td>False</td>\n",
       "      <td>False</td>\n",
       "    </tr>\n",
       "    <tr>\n",
       "      <th>14267</th>\n",
       "      <td>NaN</td>\n",
       "      <td>3.0</td>\n",
       "      <td>2.0</td>\n",
       "      <td>85</td>\n",
       "      <td>0</td>\n",
       "      <td>4.0</td>\n",
       "      <td>3</td>\n",
       "      <td>0</td>\n",
       "      <td>1790000</td>\n",
       "      <td>True</td>\n",
       "      <td>...</td>\n",
       "      <td>False</td>\n",
       "      <td>False</td>\n",
       "      <td>False</td>\n",
       "      <td>False</td>\n",
       "      <td>False</td>\n",
       "      <td>False</td>\n",
       "      <td>False</td>\n",
       "      <td>False</td>\n",
       "      <td>False</td>\n",
       "      <td>True</td>\n",
       "    </tr>\n",
       "    <tr>\n",
       "      <th>14268</th>\n",
       "      <td>300.0</td>\n",
       "      <td>3.0</td>\n",
       "      <td>3.0</td>\n",
       "      <td>170</td>\n",
       "      <td>0</td>\n",
       "      <td>11.0</td>\n",
       "      <td>5</td>\n",
       "      <td>0</td>\n",
       "      <td>4550000</td>\n",
       "      <td>False</td>\n",
       "      <td>...</td>\n",
       "      <td>False</td>\n",
       "      <td>False</td>\n",
       "      <td>False</td>\n",
       "      <td>False</td>\n",
       "      <td>False</td>\n",
       "      <td>False</td>\n",
       "      <td>False</td>\n",
       "      <td>False</td>\n",
       "      <td>True</td>\n",
       "      <td>False</td>\n",
       "    </tr>\n",
       "    <tr>\n",
       "      <th>14269</th>\n",
       "      <td>NaN</td>\n",
       "      <td>2.0</td>\n",
       "      <td>2.0</td>\n",
       "      <td>150</td>\n",
       "      <td>0</td>\n",
       "      <td>10.0</td>\n",
       "      <td>8</td>\n",
       "      <td>0</td>\n",
       "      <td>1950000</td>\n",
       "      <td>False</td>\n",
       "      <td>...</td>\n",
       "      <td>False</td>\n",
       "      <td>False</td>\n",
       "      <td>False</td>\n",
       "      <td>False</td>\n",
       "      <td>False</td>\n",
       "      <td>False</td>\n",
       "      <td>False</td>\n",
       "      <td>False</td>\n",
       "      <td>False</td>\n",
       "      <td>True</td>\n",
       "    </tr>\n",
       "    <tr>\n",
       "      <th>14270</th>\n",
       "      <td>365.0</td>\n",
       "      <td>1.0</td>\n",
       "      <td>1.0</td>\n",
       "      <td>40</td>\n",
       "      <td>2</td>\n",
       "      <td>19.0</td>\n",
       "      <td>10</td>\n",
       "      <td>2011</td>\n",
       "      <td>4300000</td>\n",
       "      <td>False</td>\n",
       "      <td>...</td>\n",
       "      <td>False</td>\n",
       "      <td>False</td>\n",
       "      <td>False</td>\n",
       "      <td>False</td>\n",
       "      <td>False</td>\n",
       "      <td>False</td>\n",
       "      <td>False</td>\n",
       "      <td>False</td>\n",
       "      <td>False</td>\n",
       "      <td>False</td>\n",
       "    </tr>\n",
       "  </tbody>\n",
       "</table>\n",
       "<p>14271 rows × 70 columns</p>\n",
       "</div>"
      ],
      "text/plain": [
       "       total_units  bedrooms  baths  floor_area  nearby_stations  \\\n",
       "0            273.0       2.0    2.0          66                2   \n",
       "1             74.0       1.0    1.0          49                3   \n",
       "2            940.0       1.0    1.0          34                2   \n",
       "3              NaN       3.0    3.0         170                0   \n",
       "4              NaN       3.0    2.0         120                1   \n",
       "...            ...       ...    ...         ...              ...   \n",
       "14266        648.0       2.0    1.0          58                2   \n",
       "14267          NaN       3.0    2.0          85                0   \n",
       "14268        300.0       3.0    3.0         170                0   \n",
       "14269          NaN       2.0    2.0         150                0   \n",
       "14270        365.0       1.0    1.0          40                2   \n",
       "\n",
       "       nearby_supermarkets  nearby_shops  year_built    price  \\\n",
       "0                     16.0            20        2011  8500000   \n",
       "1                     11.0            20        2012  5900000   \n",
       "2                     20.0            20        2017  6290000   \n",
       "3                      2.0             4           0  8900000   \n",
       "4                      6.0            15           0  2390000   \n",
       "...                    ...           ...         ...      ...   \n",
       "14266                 14.0            11        2015  4000000   \n",
       "14267                  4.0             3           0  1790000   \n",
       "14268                 11.0             5           0  4550000   \n",
       "14269                 10.0             8           0  1950000   \n",
       "14270                 19.0            10        2011  4300000   \n",
       "\n",
       "       province_Nonthaburi  ...  district_Suan Luang  district_Taling Chan  \\\n",
       "0                    False  ...                False                 False   \n",
       "1                    False  ...                False                 False   \n",
       "2                    False  ...                False                 False   \n",
       "3                     True  ...                False                 False   \n",
       "4                     True  ...                False                 False   \n",
       "...                    ...  ...                  ...                   ...   \n",
       "14266                 True  ...                False                 False   \n",
       "14267                 True  ...                False                 False   \n",
       "14268                False  ...                False                 False   \n",
       "14269                False  ...                False                 False   \n",
       "14270                False  ...                False                 False   \n",
       "\n",
       "       district_Thawi Watthana  district_Thon Buri  district_Thung Khru  \\\n",
       "0                        False               False                False   \n",
       "1                        False               False                False   \n",
       "2                        False               False                False   \n",
       "3                        False               False                False   \n",
       "4                        False               False                False   \n",
       "...                        ...                 ...                  ...   \n",
       "14266                    False               False                False   \n",
       "14267                    False               False                False   \n",
       "14268                    False               False                False   \n",
       "14269                    False               False                False   \n",
       "14270                    False               False                False   \n",
       "\n",
       "       district_Wang Thonglang  district_Watthana  district_Yan Nawa  \\\n",
       "0                        False               True              False   \n",
       "1                        False               True              False   \n",
       "2                        False              False              False   \n",
       "3                        False              False              False   \n",
       "4                        False              False              False   \n",
       "...                        ...                ...                ...   \n",
       "14266                    False              False              False   \n",
       "14267                    False              False              False   \n",
       "14268                    False              False              False   \n",
       "14269                    False              False              False   \n",
       "14270                    False              False              False   \n",
       "\n",
       "       property_type_Detached House  property_type_Townhouse  \n",
       "0                             False                    False  \n",
       "1                             False                    False  \n",
       "2                             False                    False  \n",
       "3                              True                    False  \n",
       "4                             False                     True  \n",
       "...                             ...                      ...  \n",
       "14266                         False                    False  \n",
       "14267                         False                     True  \n",
       "14268                          True                    False  \n",
       "14269                         False                     True  \n",
       "14270                         False                    False  \n",
       "\n",
       "[14271 rows x 70 columns]"
      ]
     },
     "execution_count": 44,
     "metadata": {},
     "output_type": "execute_result"
    }
   ],
   "source": [
    "expected_dummy_features3 = ['province','district','property_type'] \n",
    "model3 = pd.get_dummies(model3,columns=expected_dummy_features3, drop_first=True) #dummify 3 features (province, district, property type\n",
    "model3 #check"
   ]
  },
  {
   "cell_type": "code",
   "execution_count": 45,
   "metadata": {},
   "outputs": [],
   "source": [
    "model3['Facility'] = df_fac['Facility'] #add facility count to columns"
   ]
  },
  {
   "cell_type": "code",
   "execution_count": 46,
   "metadata": {},
   "outputs": [
    {
     "data": {
      "text/html": [
       "<div>\n",
       "<style scoped>\n",
       "    .dataframe tbody tr th:only-of-type {\n",
       "        vertical-align: middle;\n",
       "    }\n",
       "\n",
       "    .dataframe tbody tr th {\n",
       "        vertical-align: top;\n",
       "    }\n",
       "\n",
       "    .dataframe thead th {\n",
       "        text-align: right;\n",
       "    }\n",
       "</style>\n",
       "<table border=\"1\" class=\"dataframe\">\n",
       "  <thead>\n",
       "    <tr style=\"text-align: right;\">\n",
       "      <th></th>\n",
       "      <th>total_units</th>\n",
       "      <th>bedrooms</th>\n",
       "      <th>baths</th>\n",
       "      <th>floor_area</th>\n",
       "      <th>nearby_stations</th>\n",
       "      <th>nearby_supermarkets</th>\n",
       "      <th>nearby_shops</th>\n",
       "      <th>year_built</th>\n",
       "      <th>price</th>\n",
       "      <th>province_Nonthaburi</th>\n",
       "      <th>...</th>\n",
       "      <th>district_Taling Chan</th>\n",
       "      <th>district_Thawi Watthana</th>\n",
       "      <th>district_Thon Buri</th>\n",
       "      <th>district_Thung Khru</th>\n",
       "      <th>district_Wang Thonglang</th>\n",
       "      <th>district_Watthana</th>\n",
       "      <th>district_Yan Nawa</th>\n",
       "      <th>property_type_Detached House</th>\n",
       "      <th>property_type_Townhouse</th>\n",
       "      <th>Facility</th>\n",
       "    </tr>\n",
       "  </thead>\n",
       "  <tbody>\n",
       "    <tr>\n",
       "      <th>0</th>\n",
       "      <td>273.0</td>\n",
       "      <td>2.0</td>\n",
       "      <td>2.0</td>\n",
       "      <td>66</td>\n",
       "      <td>2</td>\n",
       "      <td>16.0</td>\n",
       "      <td>20</td>\n",
       "      <td>2011</td>\n",
       "      <td>8500000</td>\n",
       "      <td>False</td>\n",
       "      <td>...</td>\n",
       "      <td>False</td>\n",
       "      <td>False</td>\n",
       "      <td>False</td>\n",
       "      <td>False</td>\n",
       "      <td>False</td>\n",
       "      <td>True</td>\n",
       "      <td>False</td>\n",
       "      <td>False</td>\n",
       "      <td>False</td>\n",
       "      <td>6</td>\n",
       "    </tr>\n",
       "    <tr>\n",
       "      <th>1</th>\n",
       "      <td>74.0</td>\n",
       "      <td>1.0</td>\n",
       "      <td>1.0</td>\n",
       "      <td>49</td>\n",
       "      <td>3</td>\n",
       "      <td>11.0</td>\n",
       "      <td>20</td>\n",
       "      <td>2012</td>\n",
       "      <td>5900000</td>\n",
       "      <td>False</td>\n",
       "      <td>...</td>\n",
       "      <td>False</td>\n",
       "      <td>False</td>\n",
       "      <td>False</td>\n",
       "      <td>False</td>\n",
       "      <td>False</td>\n",
       "      <td>True</td>\n",
       "      <td>False</td>\n",
       "      <td>False</td>\n",
       "      <td>False</td>\n",
       "      <td>4</td>\n",
       "    </tr>\n",
       "  </tbody>\n",
       "</table>\n",
       "<p>2 rows × 71 columns</p>\n",
       "</div>"
      ],
      "text/plain": [
       "   total_units  bedrooms  baths  floor_area  nearby_stations  \\\n",
       "0        273.0       2.0    2.0          66                2   \n",
       "1         74.0       1.0    1.0          49                3   \n",
       "\n",
       "   nearby_supermarkets  nearby_shops  year_built    price  \\\n",
       "0                 16.0            20        2011  8500000   \n",
       "1                 11.0            20        2012  5900000   \n",
       "\n",
       "   province_Nonthaburi  ...  district_Taling Chan  district_Thawi Watthana  \\\n",
       "0                False  ...                 False                    False   \n",
       "1                False  ...                 False                    False   \n",
       "\n",
       "   district_Thon Buri  district_Thung Khru  district_Wang Thonglang  \\\n",
       "0               False                False                    False   \n",
       "1               False                False                    False   \n",
       "\n",
       "   district_Watthana  district_Yan Nawa  property_type_Detached House  \\\n",
       "0               True              False                         False   \n",
       "1               True              False                         False   \n",
       "\n",
       "   property_type_Townhouse  Facility  \n",
       "0                    False         6  \n",
       "1                    False         4  \n",
       "\n",
       "[2 rows x 71 columns]"
      ]
     },
     "execution_count": 46,
     "metadata": {},
     "output_type": "execute_result"
    }
   ],
   "source": [
    "model3.head(2) #check"
   ]
  },
  {
   "cell_type": "code",
   "execution_count": 47,
   "metadata": {},
   "outputs": [
    {
     "name": "stdout",
     "output_type": "stream",
     "text": [
      "False    13253\n",
      "True      1018\n",
      "Name: count, dtype: int64\n",
      "False    13253\n",
      "Name: count, dtype: int64\n"
     ]
    }
   ],
   "source": [
    "print(model3.duplicated().value_counts())\n",
    "model3.drop_duplicates(inplace=True) #remove duplicates\n",
    "print(model3.duplicated().value_counts())"
   ]
  },
  {
   "cell_type": "code",
   "execution_count": 48,
   "metadata": {},
   "outputs": [
    {
     "name": "stdout",
     "output_type": "stream",
     "text": [
      "total_units                     3727\n",
      "bedrooms                          43\n",
      "baths                             35\n",
      "floor_area                         0\n",
      "nearby_stations                    0\n",
      "                                ... \n",
      "district_Watthana                  0\n",
      "district_Yan Nawa                  0\n",
      "property_type_Detached House       0\n",
      "property_type_Townhouse            0\n",
      "Facility                           0\n",
      "Length: 71, dtype: int64\n",
      "(13253, 71)\n",
      "total_units                     0\n",
      "bedrooms                        0\n",
      "baths                           0\n",
      "floor_area                      0\n",
      "nearby_stations                 0\n",
      "                               ..\n",
      "district_Watthana               0\n",
      "district_Yan Nawa               0\n",
      "property_type_Detached House    0\n",
      "property_type_Townhouse         0\n",
      "Facility                        0\n",
      "Length: 71, dtype: int64\n",
      "(12842, 71)\n"
     ]
    }
   ],
   "source": [
    "print(model3.isnull().sum()) #check missing values\n",
    "print(model3.shape) #rows to check portion\n",
    "model3['total_units'].fillna(model3['total_units'].median(),inplace=True) #fill missing values in total units with median\n",
    "model3.dropna(inplace=True) #drop missing values fro mbbedrooms baths\n",
    "print(model3.isnull().sum()) #re-check\n",
    "print(model3.shape) #check remaining rows"
   ]
  },
  {
   "cell_type": "code",
   "execution_count": 49,
   "metadata": {
    "tags": []
   },
   "outputs": [
    {
     "data": {
      "text/plain": [
       "total_units                    -0.218205\n",
       "bedrooms                        0.229830\n",
       "baths                           0.312215\n",
       "floor_area                      0.333075\n",
       "nearby_stations                 0.244519\n",
       "                                  ...   \n",
       "district_Watthana               0.216091\n",
       "district_Yan Nawa               0.003014\n",
       "property_type_Detached House    0.286841\n",
       "property_type_Townhouse        -0.178016\n",
       "Facility                        0.090619\n",
       "Name: price, Length: 71, dtype: float64"
      ]
     },
     "execution_count": 49,
     "metadata": {},
     "output_type": "execute_result"
    }
   ],
   "source": [
    "model3.corr(numeric_only=True)['price'] #see correlation between features (can't illustrate since its too many features"
   ]
  },
  {
   "cell_type": "code",
   "execution_count": 50,
   "metadata": {},
   "outputs": [
    {
     "data": {
      "text/plain": [
       "Index(['total_units', 'bedrooms', 'baths', 'floor_area', 'nearby_stations',\n",
       "       'nearby_supermarkets', 'nearby_shops', 'year_built', 'price',\n",
       "       'province_Nonthaburi', 'province_Samut Prakan', 'district_Bang Bon',\n",
       "       'district_Bang Bua Thong', 'district_Bang Kapi', 'district_Bang Khae',\n",
       "       'district_Bang Khen', 'district_Bang Kho Laem',\n",
       "       'district_Bang Khun Thian', 'district_Bang Kruai', 'district_Bang Na',\n",
       "       'district_Bang Phlat', 'district_Bang Phli', 'district_Bang Rak',\n",
       "       'district_Bang Sao Thong', 'district_Bang Sue', 'district_Bang Yai',\n",
       "       'district_Bangkok Noi', 'district_Bangkok Yai', 'district_Bueng Kum',\n",
       "       'district_Chatuchak', 'district_Chom Thong', 'district_Din Daeng',\n",
       "       'district_Don Mueang', 'district_Huai Khwang', 'district_Khan Na Yao',\n",
       "       'district_Khlong Sam Wa', 'district_Khlong San', 'district_Khlong Toei',\n",
       "       'district_Lak Si', 'district_Lat Krabang', 'district_Lat Phrao',\n",
       "       'district_Min Buri', 'district_Mueang Nonthaburi',\n",
       "       'district_Mueang Samut Prakan', 'district_Nong Chok',\n",
       "       'district_Nong Khaem', 'district_Pak Kret', 'district_Pathum Wan',\n",
       "       'district_Phasi Charoen', 'district_Phaya Thai',\n",
       "       'district_Phra Khanong', 'district_Phra Pradaeng',\n",
       "       'district_Phra Samut Jadee', 'district_Prawet', 'district_Rat Burana',\n",
       "       'district_Ratchathewi', 'district_Sai Mai', 'district_Sai Noi',\n",
       "       'district_Saphan Sung', 'district_Sathon', 'district_Suan Luang',\n",
       "       'district_Taling Chan', 'district_Thawi Watthana', 'district_Thon Buri',\n",
       "       'district_Thung Khru', 'district_Wang Thonglang', 'district_Watthana',\n",
       "       'district_Yan Nawa', 'property_type_Detached House',\n",
       "       'property_type_Townhouse', 'Facility'],\n",
       "      dtype='object')"
      ]
     },
     "execution_count": 50,
     "metadata": {},
     "output_type": "execute_result"
    }
   ],
   "source": [
    "model3.columns #check all columns"
   ]
  },
  {
   "cell_type": "markdown",
   "metadata": {
    "toc-hr-collapsed": true
   },
   "source": [
    "## Train Sheet // Fit Model"
   ]
  },
  {
   "cell_type": "code",
   "execution_count": 51,
   "metadata": {},
   "outputs": [],
   "source": [
    "#Assign values and features\n",
    "Features = [col for col in model3._get_numeric_data().columns if col !=\"price\"]\n",
    "X = model3[Features]\n",
    "y = model3['price']"
   ]
  },
  {
   "cell_type": "code",
   "execution_count": 52,
   "metadata": {},
   "outputs": [],
   "source": [
    "#Split preparation for cross validation\n",
    "X_train3, X_test3, y_train3, y_test3 = train_test_split(X,y,test_size=0.8, random_state=42)"
   ]
  },
  {
   "cell_type": "code",
   "execution_count": 53,
   "metadata": {},
   "outputs": [
    {
     "data": {
      "text/plain": [
       "0.6088028856187794"
      ]
     },
     "execution_count": 53,
     "metadata": {},
     "output_type": "execute_result"
    }
   ],
   "source": [
    "#Fit model\n",
    "lr3 = LinearRegression()\n",
    "fit_model3 = lr3.fit(X_train3, y_train3)\n",
    "#R2 Train CV\n",
    "cross_val_score(lr3, X_train3, y_train3, cv=10).mean()"
   ]
  },
  {
   "cell_type": "code",
   "execution_count": 54,
   "metadata": {},
   "outputs": [
    {
     "data": {
      "text/plain": [
       "0.6266633635852326"
      ]
     },
     "execution_count": 54,
     "metadata": {},
     "output_type": "execute_result"
    }
   ],
   "source": [
    "#R2\n",
    "lr3.score(X_test3, y_test3)\n",
    "#better than model2 and a bit underfit"
   ]
  },
  {
   "cell_type": "code",
   "execution_count": 55,
   "metadata": {
    "tags": []
   },
   "outputs": [
    {
     "data": {
      "text/plain": [
       "1323524.9112501286"
      ]
     },
     "execution_count": 55,
     "metadata": {},
     "output_type": "execute_result"
    }
   ],
   "source": [
    "#RMSE\n",
    "y_pred3 = fit_model3.predict(X)\n",
    "mean_squared_error(y, y_pred3, squared=False)\n",
    "#less RMSE"
   ]
  },
  {
   "cell_type": "markdown",
   "metadata": {},
   "source": [
    "## Train Sheet // Try Scaling + L1 Regularization"
   ]
  },
  {
   "cell_type": "code",
   "execution_count": 56,
   "metadata": {},
   "outputs": [],
   "source": [
    "# Initialize the StandardScaler object\n",
    "from sklearn.preprocessing import StandardScaler\n",
    "\n",
    "ss3 = StandardScaler()\n",
    "ss3.fit(X_train3)\n",
    "\n",
    "# Scale your X features\n",
    "X_train_scaled3 = ss3.transform(X_train3)\n",
    "X_test_scaled3 = ss3.transform(X_test3)"
   ]
  },
  {
   "cell_type": "code",
   "execution_count": 57,
   "metadata": {
    "tags": []
   },
   "outputs": [
    {
     "data": {
      "text/html": [
       "<style>#sk-container-id-1 {color: black;}#sk-container-id-1 pre{padding: 0;}#sk-container-id-1 div.sk-toggleable {background-color: white;}#sk-container-id-1 label.sk-toggleable__label {cursor: pointer;display: block;width: 100%;margin-bottom: 0;padding: 0.3em;box-sizing: border-box;text-align: center;}#sk-container-id-1 label.sk-toggleable__label-arrow:before {content: \"▸\";float: left;margin-right: 0.25em;color: #696969;}#sk-container-id-1 label.sk-toggleable__label-arrow:hover:before {color: black;}#sk-container-id-1 div.sk-estimator:hover label.sk-toggleable__label-arrow:before {color: black;}#sk-container-id-1 div.sk-toggleable__content {max-height: 0;max-width: 0;overflow: hidden;text-align: left;background-color: #f0f8ff;}#sk-container-id-1 div.sk-toggleable__content pre {margin: 0.2em;color: black;border-radius: 0.25em;background-color: #f0f8ff;}#sk-container-id-1 input.sk-toggleable__control:checked~div.sk-toggleable__content {max-height: 200px;max-width: 100%;overflow: auto;}#sk-container-id-1 input.sk-toggleable__control:checked~label.sk-toggleable__label-arrow:before {content: \"▾\";}#sk-container-id-1 div.sk-estimator input.sk-toggleable__control:checked~label.sk-toggleable__label {background-color: #d4ebff;}#sk-container-id-1 div.sk-label input.sk-toggleable__control:checked~label.sk-toggleable__label {background-color: #d4ebff;}#sk-container-id-1 input.sk-hidden--visually {border: 0;clip: rect(1px 1px 1px 1px);clip: rect(1px, 1px, 1px, 1px);height: 1px;margin: -1px;overflow: hidden;padding: 0;position: absolute;width: 1px;}#sk-container-id-1 div.sk-estimator {font-family: monospace;background-color: #f0f8ff;border: 1px dotted black;border-radius: 0.25em;box-sizing: border-box;margin-bottom: 0.5em;}#sk-container-id-1 div.sk-estimator:hover {background-color: #d4ebff;}#sk-container-id-1 div.sk-parallel-item::after {content: \"\";width: 100%;border-bottom: 1px solid gray;flex-grow: 1;}#sk-container-id-1 div.sk-label:hover label.sk-toggleable__label {background-color: #d4ebff;}#sk-container-id-1 div.sk-serial::before {content: \"\";position: absolute;border-left: 1px solid gray;box-sizing: border-box;top: 0;bottom: 0;left: 50%;z-index: 0;}#sk-container-id-1 div.sk-serial {display: flex;flex-direction: column;align-items: center;background-color: white;padding-right: 0.2em;padding-left: 0.2em;position: relative;}#sk-container-id-1 div.sk-item {position: relative;z-index: 1;}#sk-container-id-1 div.sk-parallel {display: flex;align-items: stretch;justify-content: center;background-color: white;position: relative;}#sk-container-id-1 div.sk-item::before, #sk-container-id-1 div.sk-parallel-item::before {content: \"\";position: absolute;border-left: 1px solid gray;box-sizing: border-box;top: 0;bottom: 0;left: 50%;z-index: -1;}#sk-container-id-1 div.sk-parallel-item {display: flex;flex-direction: column;z-index: 1;position: relative;background-color: white;}#sk-container-id-1 div.sk-parallel-item:first-child::after {align-self: flex-end;width: 50%;}#sk-container-id-1 div.sk-parallel-item:last-child::after {align-self: flex-start;width: 50%;}#sk-container-id-1 div.sk-parallel-item:only-child::after {width: 0;}#sk-container-id-1 div.sk-dashed-wrapped {border: 1px dashed gray;margin: 0 0.4em 0.5em 0.4em;box-sizing: border-box;padding-bottom: 0.4em;background-color: white;}#sk-container-id-1 div.sk-label label {font-family: monospace;font-weight: bold;display: inline-block;line-height: 1.2em;}#sk-container-id-1 div.sk-label-container {text-align: center;}#sk-container-id-1 div.sk-container {/* jupyter's `normalize.less` sets `[hidden] { display: none; }` but bootstrap.min.css set `[hidden] { display: none !important; }` so we also need the `!important` here to be able to override the default hidden behavior on the sphinx rendered scikit-learn.org. See: https://github.com/scikit-learn/scikit-learn/issues/21755 */display: inline-block !important;position: relative;}#sk-container-id-1 div.sk-text-repr-fallback {display: none;}</style><div id=\"sk-container-id-1\" class=\"sk-top-container\"><div class=\"sk-text-repr-fallback\"><pre>LassoCV(alphas=array([  100.,   200.,   300.,   400.,   500.,   600.,   700.,   800.,\n",
       "         900.,  1000.,  1100.,  1200.,  1300.,  1400.,  1500.,  1600.,\n",
       "        1700.,  1800.,  1900.,  2000.,  2100.,  2200.,  2300.,  2400.,\n",
       "        2500.,  2600.,  2700.,  2800.,  2900.,  3000.,  3100.,  3200.,\n",
       "        3300.,  3400.,  3500.,  3600.,  3700.,  3800.,  3900.,  4000.,\n",
       "        4100.,  4200.,  4300.,  4400.,  4500.,  4600.,  4700.,  4800.,\n",
       "        4900.,  5000.,  5100.,  5200.,  5300.,  5400.,  5500.,  5600.,\n",
       "        5700.,  5800.,  5900.,  6000.,  6100.,  6200.,  6300.,  6400.,\n",
       "        6500.,  6600.,  6700.,  6800.,  6900.,  7000.,  7100.,  7200.,\n",
       "        7300.,  7400.,  7500.,  7600.,  7700.,  7800.,  7900.,  8000.,\n",
       "        8100.,  8200.,  8300.,  8400.,  8500.,  8600.,  8700.,  8800.,\n",
       "        8900.,  9000.,  9100.,  9200.,  9300.,  9400.,  9500.,  9600.,\n",
       "        9700.,  9800.,  9900., 10000.]),\n",
       "        cv=5, max_iter=50000)</pre><b>In a Jupyter environment, please rerun this cell to show the HTML representation or trust the notebook. <br />On GitHub, the HTML representation is unable to render, please try loading this page with nbviewer.org.</b></div><div class=\"sk-container\" hidden><div class=\"sk-item\"><div class=\"sk-estimator sk-toggleable\"><input class=\"sk-toggleable__control sk-hidden--visually\" id=\"sk-estimator-id-1\" type=\"checkbox\" checked><label for=\"sk-estimator-id-1\" class=\"sk-toggleable__label sk-toggleable__label-arrow\">LassoCV</label><div class=\"sk-toggleable__content\"><pre>LassoCV(alphas=array([  100.,   200.,   300.,   400.,   500.,   600.,   700.,   800.,\n",
       "         900.,  1000.,  1100.,  1200.,  1300.,  1400.,  1500.,  1600.,\n",
       "        1700.,  1800.,  1900.,  2000.,  2100.,  2200.,  2300.,  2400.,\n",
       "        2500.,  2600.,  2700.,  2800.,  2900.,  3000.,  3100.,  3200.,\n",
       "        3300.,  3400.,  3500.,  3600.,  3700.,  3800.,  3900.,  4000.,\n",
       "        4100.,  4200.,  4300.,  4400.,  4500.,  4600.,  4700.,  4800.,\n",
       "        4900.,  5000.,  5100.,  5200.,  5300.,  5400.,  5500.,  5600.,\n",
       "        5700.,  5800.,  5900.,  6000.,  6100.,  6200.,  6300.,  6400.,\n",
       "        6500.,  6600.,  6700.,  6800.,  6900.,  7000.,  7100.,  7200.,\n",
       "        7300.,  7400.,  7500.,  7600.,  7700.,  7800.,  7900.,  8000.,\n",
       "        8100.,  8200.,  8300.,  8400.,  8500.,  8600.,  8700.,  8800.,\n",
       "        8900.,  9000.,  9100.,  9200.,  9300.,  9400.,  9500.,  9600.,\n",
       "        9700.,  9800.,  9900., 10000.]),\n",
       "        cv=5, max_iter=50000)</pre></div></div></div></div></div>"
      ],
      "text/plain": [
       "LassoCV(alphas=array([  100.,   200.,   300.,   400.,   500.,   600.,   700.,   800.,\n",
       "         900.,  1000.,  1100.,  1200.,  1300.,  1400.,  1500.,  1600.,\n",
       "        1700.,  1800.,  1900.,  2000.,  2100.,  2200.,  2300.,  2400.,\n",
       "        2500.,  2600.,  2700.,  2800.,  2900.,  3000.,  3100.,  3200.,\n",
       "        3300.,  3400.,  3500.,  3600.,  3700.,  3800.,  3900.,  4000.,\n",
       "        4100.,  4200.,  4300.,  4400.,  4500.,  4600.,  4700.,  4800.,\n",
       "        4900.,  5000.,  5100.,  5200.,  5300.,  5400.,  5500.,  5600.,\n",
       "        5700.,  5800.,  5900.,  6000.,  6100.,  6200.,  6300.,  6400.,\n",
       "        6500.,  6600.,  6700.,  6800.,  6900.,  7000.,  7100.,  7200.,\n",
       "        7300.,  7400.,  7500.,  7600.,  7700.,  7800.,  7900.,  8000.,\n",
       "        8100.,  8200.,  8300.,  8400.,  8500.,  8600.,  8700.,  8800.,\n",
       "        8900.,  9000.,  9100.,  9200.,  9300.,  9400.,  9500.,  9600.,\n",
       "        9700.,  9800.,  9900., 10000.]),\n",
       "        cv=5, max_iter=50000)"
      ]
     },
     "execution_count": 57,
     "metadata": {},
     "output_type": "execute_result"
    }
   ],
   "source": [
    "# Set up a list of Lasso alphas to check.\n",
    "l_alphas3 = np.linspace(100,10000,100) ##(10^0 until 10^100 pull for 100 values)\n",
    "# Cross-validate over our list of Lasso alphas.\n",
    "lasso_cv3 = LassoCV(alphas=l_alphas3, cv=5, max_iter=50000)\n",
    "lasso_cv3.fit(X_train_scaled3,y_train3)"
   ]
  },
  {
   "cell_type": "code",
   "execution_count": 58,
   "metadata": {
    "tags": []
   },
   "outputs": [
    {
     "name": "stdout",
     "output_type": "stream",
     "text": [
      "0.6351897243042219\n",
      "0.626850768929084\n",
      "3400.0\n"
     ]
    }
   ],
   "source": [
    "print(lasso_cv3.score(X_train_scaled3,y_train3))\n",
    "print(lasso_cv3.score(X_test_scaled3,y_test3))\n",
    "print(lasso_cv3.alpha_)\n",
    "#check best alpha and train / test score"
   ]
  },
  {
   "cell_type": "code",
   "execution_count": 59,
   "metadata": {
    "tags": []
   },
   "outputs": [
    {
     "data": {
      "text/html": [
       "<style>#sk-container-id-2 {color: black;}#sk-container-id-2 pre{padding: 0;}#sk-container-id-2 div.sk-toggleable {background-color: white;}#sk-container-id-2 label.sk-toggleable__label {cursor: pointer;display: block;width: 100%;margin-bottom: 0;padding: 0.3em;box-sizing: border-box;text-align: center;}#sk-container-id-2 label.sk-toggleable__label-arrow:before {content: \"▸\";float: left;margin-right: 0.25em;color: #696969;}#sk-container-id-2 label.sk-toggleable__label-arrow:hover:before {color: black;}#sk-container-id-2 div.sk-estimator:hover label.sk-toggleable__label-arrow:before {color: black;}#sk-container-id-2 div.sk-toggleable__content {max-height: 0;max-width: 0;overflow: hidden;text-align: left;background-color: #f0f8ff;}#sk-container-id-2 div.sk-toggleable__content pre {margin: 0.2em;color: black;border-radius: 0.25em;background-color: #f0f8ff;}#sk-container-id-2 input.sk-toggleable__control:checked~div.sk-toggleable__content {max-height: 200px;max-width: 100%;overflow: auto;}#sk-container-id-2 input.sk-toggleable__control:checked~label.sk-toggleable__label-arrow:before {content: \"▾\";}#sk-container-id-2 div.sk-estimator input.sk-toggleable__control:checked~label.sk-toggleable__label {background-color: #d4ebff;}#sk-container-id-2 div.sk-label input.sk-toggleable__control:checked~label.sk-toggleable__label {background-color: #d4ebff;}#sk-container-id-2 input.sk-hidden--visually {border: 0;clip: rect(1px 1px 1px 1px);clip: rect(1px, 1px, 1px, 1px);height: 1px;margin: -1px;overflow: hidden;padding: 0;position: absolute;width: 1px;}#sk-container-id-2 div.sk-estimator {font-family: monospace;background-color: #f0f8ff;border: 1px dotted black;border-radius: 0.25em;box-sizing: border-box;margin-bottom: 0.5em;}#sk-container-id-2 div.sk-estimator:hover {background-color: #d4ebff;}#sk-container-id-2 div.sk-parallel-item::after {content: \"\";width: 100%;border-bottom: 1px solid gray;flex-grow: 1;}#sk-container-id-2 div.sk-label:hover label.sk-toggleable__label {background-color: #d4ebff;}#sk-container-id-2 div.sk-serial::before {content: \"\";position: absolute;border-left: 1px solid gray;box-sizing: border-box;top: 0;bottom: 0;left: 50%;z-index: 0;}#sk-container-id-2 div.sk-serial {display: flex;flex-direction: column;align-items: center;background-color: white;padding-right: 0.2em;padding-left: 0.2em;position: relative;}#sk-container-id-2 div.sk-item {position: relative;z-index: 1;}#sk-container-id-2 div.sk-parallel {display: flex;align-items: stretch;justify-content: center;background-color: white;position: relative;}#sk-container-id-2 div.sk-item::before, #sk-container-id-2 div.sk-parallel-item::before {content: \"\";position: absolute;border-left: 1px solid gray;box-sizing: border-box;top: 0;bottom: 0;left: 50%;z-index: -1;}#sk-container-id-2 div.sk-parallel-item {display: flex;flex-direction: column;z-index: 1;position: relative;background-color: white;}#sk-container-id-2 div.sk-parallel-item:first-child::after {align-self: flex-end;width: 50%;}#sk-container-id-2 div.sk-parallel-item:last-child::after {align-self: flex-start;width: 50%;}#sk-container-id-2 div.sk-parallel-item:only-child::after {width: 0;}#sk-container-id-2 div.sk-dashed-wrapped {border: 1px dashed gray;margin: 0 0.4em 0.5em 0.4em;box-sizing: border-box;padding-bottom: 0.4em;background-color: white;}#sk-container-id-2 div.sk-label label {font-family: monospace;font-weight: bold;display: inline-block;line-height: 1.2em;}#sk-container-id-2 div.sk-label-container {text-align: center;}#sk-container-id-2 div.sk-container {/* jupyter's `normalize.less` sets `[hidden] { display: none; }` but bootstrap.min.css set `[hidden] { display: none !important; }` so we also need the `!important` here to be able to override the default hidden behavior on the sphinx rendered scikit-learn.org. See: https://github.com/scikit-learn/scikit-learn/issues/21755 */display: inline-block !important;position: relative;}#sk-container-id-2 div.sk-text-repr-fallback {display: none;}</style><div id=\"sk-container-id-2\" class=\"sk-top-container\"><div class=\"sk-text-repr-fallback\"><pre>Lasso(alpha=3400.0, max_iter=100000)</pre><b>In a Jupyter environment, please rerun this cell to show the HTML representation or trust the notebook. <br />On GitHub, the HTML representation is unable to render, please try loading this page with nbviewer.org.</b></div><div class=\"sk-container\" hidden><div class=\"sk-item\"><div class=\"sk-estimator sk-toggleable\"><input class=\"sk-toggleable__control sk-hidden--visually\" id=\"sk-estimator-id-2\" type=\"checkbox\" checked><label for=\"sk-estimator-id-2\" class=\"sk-toggleable__label sk-toggleable__label-arrow\">Lasso</label><div class=\"sk-toggleable__content\"><pre>Lasso(alpha=3400.0, max_iter=100000)</pre></div></div></div></div></div>"
      ],
      "text/plain": [
       "Lasso(alpha=3400.0, max_iter=100000)"
      ]
     },
     "execution_count": 59,
     "metadata": {},
     "output_type": "execute_result"
    }
   ],
   "source": [
    "lasso3 = Lasso(alpha=lasso_cv3.alpha_, max_iter=100000)\n",
    "# Fit model using best ridge alpha!\n",
    "lasso3.fit(X_train_scaled3,y_train3)"
   ]
  },
  {
   "cell_type": "code",
   "execution_count": 60,
   "metadata": {
    "tags": []
   },
   "outputs": [
    {
     "name": "stdout",
     "output_type": "stream",
     "text": [
      "0.6351897243042219\n",
      "0.626850768929084\n"
     ]
    }
   ],
   "source": [
    "print(lasso3.score(X_train_scaled3,y_train3))\n",
    "print(lasso3.score(X_test_scaled3, y_test3))\n",
    "#Score imporve for a bit from regularization"
   ]
  },
  {
   "cell_type": "markdown",
   "metadata": {},
   "source": [
    "## Test Model // EDA to fill N/A"
   ]
  },
  {
   "cell_type": "code",
   "execution_count": 61,
   "metadata": {},
   "outputs": [],
   "source": [
    "#Mimic train sheet features imputation and feature engineering\n",
    "test_model3 = test_df[['province','district','property_type','total_units','bedrooms','baths','floor_area','nearby_stations','nearby_supermarkets','nearby_shops','year_built']]\n",
    "test_model3 = pd.get_dummies(test_model3,columns=expected_dummy_features3, drop_first=True) #dummify\n",
    "test_model3['Facility'] = df_testfac['Facility'] #Add facilities"
   ]
  },
  {
   "cell_type": "code",
   "execution_count": 62,
   "metadata": {
    "tags": []
   },
   "outputs": [
    {
     "data": {
      "text/html": [
       "<div>\n",
       "<style scoped>\n",
       "    .dataframe tbody tr th:only-of-type {\n",
       "        vertical-align: middle;\n",
       "    }\n",
       "\n",
       "    .dataframe tbody tr th {\n",
       "        vertical-align: top;\n",
       "    }\n",
       "\n",
       "    .dataframe thead th {\n",
       "        text-align: right;\n",
       "    }\n",
       "</style>\n",
       "<table border=\"1\" class=\"dataframe\">\n",
       "  <thead>\n",
       "    <tr style=\"text-align: right;\">\n",
       "      <th></th>\n",
       "      <th>total_units</th>\n",
       "      <th>bedrooms</th>\n",
       "      <th>baths</th>\n",
       "      <th>floor_area</th>\n",
       "      <th>nearby_stations</th>\n",
       "      <th>nearby_supermarkets</th>\n",
       "      <th>nearby_shops</th>\n",
       "      <th>year_built</th>\n",
       "      <th>province_Nonthaburi</th>\n",
       "      <th>province_Samut Prakan</th>\n",
       "      <th>...</th>\n",
       "      <th>district_Taling Chan</th>\n",
       "      <th>district_Thawi Watthana</th>\n",
       "      <th>district_Thon Buri</th>\n",
       "      <th>district_Thung Khru</th>\n",
       "      <th>district_Wang Thonglang</th>\n",
       "      <th>district_Watthana</th>\n",
       "      <th>district_Yan Nawa</th>\n",
       "      <th>property_type_Detached House</th>\n",
       "      <th>property_type_Townhouse</th>\n",
       "      <th>Facility</th>\n",
       "    </tr>\n",
       "  </thead>\n",
       "  <tbody>\n",
       "    <tr>\n",
       "      <th>378</th>\n",
       "      <td>550.0</td>\n",
       "      <td>1.0</td>\n",
       "      <td>1.0</td>\n",
       "      <td>37</td>\n",
       "      <td>3</td>\n",
       "      <td>19.0</td>\n",
       "      <td>20</td>\n",
       "      <td>2014</td>\n",
       "      <td>False</td>\n",
       "      <td>False</td>\n",
       "      <td>...</td>\n",
       "      <td>False</td>\n",
       "      <td>False</td>\n",
       "      <td>False</td>\n",
       "      <td>False</td>\n",
       "      <td>False</td>\n",
       "      <td>False</td>\n",
       "      <td>False</td>\n",
       "      <td>False</td>\n",
       "      <td>False</td>\n",
       "      <td>10</td>\n",
       "    </tr>\n",
       "    <tr>\n",
       "      <th>11416</th>\n",
       "      <td>3500.0</td>\n",
       "      <td>1.0</td>\n",
       "      <td>1.0</td>\n",
       "      <td>36</td>\n",
       "      <td>0</td>\n",
       "      <td>20.0</td>\n",
       "      <td>16</td>\n",
       "      <td>2008</td>\n",
       "      <td>False</td>\n",
       "      <td>False</td>\n",
       "      <td>...</td>\n",
       "      <td>False</td>\n",
       "      <td>False</td>\n",
       "      <td>False</td>\n",
       "      <td>False</td>\n",
       "      <td>True</td>\n",
       "      <td>False</td>\n",
       "      <td>False</td>\n",
       "      <td>False</td>\n",
       "      <td>False</td>\n",
       "      <td>8</td>\n",
       "    </tr>\n",
       "  </tbody>\n",
       "</table>\n",
       "<p>2 rows × 70 columns</p>\n",
       "</div>"
      ],
      "text/plain": [
       "       total_units  bedrooms  baths  floor_area  nearby_stations  \\\n",
       "378          550.0       1.0    1.0          37                3   \n",
       "11416       3500.0       1.0    1.0          36                0   \n",
       "\n",
       "       nearby_supermarkets  nearby_shops  year_built  province_Nonthaburi  \\\n",
       "378                   19.0            20        2014                False   \n",
       "11416                 20.0            16        2008                False   \n",
       "\n",
       "       province_Samut Prakan  ...  district_Taling Chan  \\\n",
       "378                    False  ...                 False   \n",
       "11416                  False  ...                 False   \n",
       "\n",
       "       district_Thawi Watthana  district_Thon Buri  district_Thung Khru  \\\n",
       "378                      False               False                False   \n",
       "11416                    False               False                False   \n",
       "\n",
       "       district_Wang Thonglang  district_Watthana  district_Yan Nawa  \\\n",
       "378                      False              False              False   \n",
       "11416                     True              False              False   \n",
       "\n",
       "       property_type_Detached House  property_type_Townhouse  Facility  \n",
       "378                           False                    False        10  \n",
       "11416                         False                    False         8  \n",
       "\n",
       "[2 rows x 70 columns]"
      ]
     },
     "execution_count": 62,
     "metadata": {},
     "output_type": "execute_result"
    }
   ],
   "source": [
    "X_train3.head(2)"
   ]
  },
  {
   "cell_type": "code",
   "execution_count": 63,
   "metadata": {
    "tags": []
   },
   "outputs": [
    {
     "data": {
      "text/html": [
       "<div>\n",
       "<style scoped>\n",
       "    .dataframe tbody tr th:only-of-type {\n",
       "        vertical-align: middle;\n",
       "    }\n",
       "\n",
       "    .dataframe tbody tr th {\n",
       "        vertical-align: top;\n",
       "    }\n",
       "\n",
       "    .dataframe thead th {\n",
       "        text-align: right;\n",
       "    }\n",
       "</style>\n",
       "<table border=\"1\" class=\"dataframe\">\n",
       "  <thead>\n",
       "    <tr style=\"text-align: right;\">\n",
       "      <th></th>\n",
       "      <th>total_units</th>\n",
       "      <th>bedrooms</th>\n",
       "      <th>baths</th>\n",
       "      <th>floor_area</th>\n",
       "      <th>nearby_stations</th>\n",
       "      <th>nearby_supermarkets</th>\n",
       "      <th>nearby_shops</th>\n",
       "      <th>year_built</th>\n",
       "      <th>province_Nonthaburi</th>\n",
       "      <th>province_Samut Prakan</th>\n",
       "      <th>...</th>\n",
       "      <th>district_Taling Chan</th>\n",
       "      <th>district_Thawi Watthana</th>\n",
       "      <th>district_Thon Buri</th>\n",
       "      <th>district_Thung Khru</th>\n",
       "      <th>district_Wang Thonglang</th>\n",
       "      <th>district_Watthana</th>\n",
       "      <th>district_Yan Nawa</th>\n",
       "      <th>property_type_Detached House</th>\n",
       "      <th>property_type_Townhouse</th>\n",
       "      <th>Facility</th>\n",
       "    </tr>\n",
       "  </thead>\n",
       "  <tbody>\n",
       "    <tr>\n",
       "      <th>0</th>\n",
       "      <td>800.0</td>\n",
       "      <td>4.0</td>\n",
       "      <td>3.0</td>\n",
       "      <td>120</td>\n",
       "      <td>0</td>\n",
       "      <td>9.0</td>\n",
       "      <td>5</td>\n",
       "      <td>0</td>\n",
       "      <td>False</td>\n",
       "      <td>True</td>\n",
       "      <td>...</td>\n",
       "      <td>False</td>\n",
       "      <td>False</td>\n",
       "      <td>False</td>\n",
       "      <td>False</td>\n",
       "      <td>False</td>\n",
       "      <td>False</td>\n",
       "      <td>False</td>\n",
       "      <td>True</td>\n",
       "      <td>False</td>\n",
       "      <td>6</td>\n",
       "    </tr>\n",
       "    <tr>\n",
       "      <th>1</th>\n",
       "      <td>107.0</td>\n",
       "      <td>4.0</td>\n",
       "      <td>3.0</td>\n",
       "      <td>188</td>\n",
       "      <td>0</td>\n",
       "      <td>9.0</td>\n",
       "      <td>5</td>\n",
       "      <td>2020</td>\n",
       "      <td>False</td>\n",
       "      <td>False</td>\n",
       "      <td>...</td>\n",
       "      <td>False</td>\n",
       "      <td>False</td>\n",
       "      <td>False</td>\n",
       "      <td>False</td>\n",
       "      <td>False</td>\n",
       "      <td>False</td>\n",
       "      <td>False</td>\n",
       "      <td>True</td>\n",
       "      <td>False</td>\n",
       "      <td>4</td>\n",
       "    </tr>\n",
       "  </tbody>\n",
       "</table>\n",
       "<p>2 rows × 70 columns</p>\n",
       "</div>"
      ],
      "text/plain": [
       "   total_units  bedrooms  baths  floor_area  nearby_stations  \\\n",
       "0        800.0       4.0    3.0         120                0   \n",
       "1        107.0       4.0    3.0         188                0   \n",
       "\n",
       "   nearby_supermarkets  nearby_shops  year_built  province_Nonthaburi  \\\n",
       "0                  9.0             5           0                False   \n",
       "1                  9.0             5        2020                False   \n",
       "\n",
       "   province_Samut Prakan  ...  district_Taling Chan  district_Thawi Watthana  \\\n",
       "0                   True  ...                 False                    False   \n",
       "1                  False  ...                 False                    False   \n",
       "\n",
       "   district_Thon Buri  district_Thung Khru  district_Wang Thonglang  \\\n",
       "0               False                False                    False   \n",
       "1               False                False                    False   \n",
       "\n",
       "   district_Watthana  district_Yan Nawa  property_type_Detached House  \\\n",
       "0              False              False                          True   \n",
       "1              False              False                          True   \n",
       "\n",
       "   property_type_Townhouse  Facility  \n",
       "0                    False         6  \n",
       "1                    False         4  \n",
       "\n",
       "[2 rows x 70 columns]"
      ]
     },
     "execution_count": 63,
     "metadata": {},
     "output_type": "execute_result"
    }
   ],
   "source": [
    "test_model3.head(2)"
   ]
  },
  {
   "cell_type": "code",
   "execution_count": 64,
   "metadata": {},
   "outputs": [
    {
     "data": {
      "text/plain": [
       "total_units                     642\n",
       "bedrooms                         10\n",
       "baths                            10\n",
       "floor_area                        0\n",
       "nearby_stations                   0\n",
       "                               ... \n",
       "district_Watthana                 0\n",
       "district_Yan Nawa                 0\n",
       "property_type_Detached House      0\n",
       "property_type_Townhouse           0\n",
       "Facility                          0\n",
       "Length: 70, dtype: int64"
      ]
     },
     "execution_count": 64,
     "metadata": {},
     "output_type": "execute_result"
    }
   ],
   "source": [
    "test_model3.isna().sum() #check missing values"
   ]
  },
  {
   "cell_type": "code",
   "execution_count": 65,
   "metadata": {},
   "outputs": [
    {
     "name": "stdout",
     "output_type": "stream",
     "text": [
      "total_units  bedrooms  baths  nearby_supermarkets\n",
      "497.0        1.0       1.0    9.0                    0.005522\n",
      "339.0        1.0       1.0    8.0                    0.005522\n",
      "940.0        1.0       1.0    20.0                   0.005522\n",
      "1325.0       1.0       1.0    4.0                    0.004970\n",
      "841.0        1.0       1.0    4.0                    0.004417\n",
      "                                                       ...   \n",
      "266.0        1.0       1.0    9.0                    0.000552\n",
      "497.0        2.0       2.0    9.0                    0.000552\n",
      "                              13.0                   0.000552\n",
      "             3.0       3.0    11.0                   0.000552\n",
      "154.0        1.0       1.0    20.0                   0.000552\n",
      "Name: proportion, Length: 1067, dtype: float64\n"
     ]
    }
   ],
   "source": [
    "print(test_model3[['total_units','bedrooms','baths','nearby_supermarkets']].value_counts(normalize=True))"
   ]
  },
  {
   "cell_type": "code",
   "execution_count": 66,
   "metadata": {},
   "outputs": [
    {
     "name": "stdout",
     "output_type": "stream",
     "text": [
      "       total_units     bedrooms        baths  nearby_supermarkets\n",
      "count  1858.000000  2490.000000  2490.000000          2414.000000\n",
      "mean    713.160388     1.848193     1.601205             9.140431\n",
      "std     577.473009     1.081384     0.854877             5.439392\n",
      "min       1.000000     1.000000     0.000000             1.000000\n",
      "25%     306.000000     1.000000     1.000000             5.000000\n",
      "50%     539.000000     1.000000     1.000000             8.000000\n",
      "75%     954.000000     3.000000     2.000000            13.000000\n",
      "max    4000.000000    10.000000     6.000000            20.000000\n"
     ]
    }
   ],
   "source": [
    "print(test_model3[['total_units','bedrooms','baths','nearby_supermarkets']].describe())"
   ]
  },
  {
   "cell_type": "code",
   "execution_count": 67,
   "metadata": {},
   "outputs": [
    {
     "name": "stdout",
     "output_type": "stream",
     "text": [
      "   total_units  bedrooms  baths  nearby_supermarkets\n",
      "0        339.0       1.0    1.0                  6.0\n"
     ]
    }
   ],
   "source": [
    "print(test_model3[['total_units','bedrooms','baths','nearby_supermarkets']].mode())"
   ]
  },
  {
   "cell_type": "code",
   "execution_count": 68,
   "metadata": {},
   "outputs": [
    {
     "name": "stdout",
     "output_type": "stream",
     "text": [
      "total_units            539.0\n",
      "bedrooms                 1.0\n",
      "baths                    1.0\n",
      "nearby_supermarkets      8.0\n",
      "dtype: float64\n"
     ]
    }
   ],
   "source": [
    "print(test_model3[['total_units','bedrooms','baths','nearby_supermarkets']].median())"
   ]
  },
  {
   "cell_type": "markdown",
   "metadata": {},
   "source": [
    "## Test Sheet // Mimic train model features + predict"
   ]
  },
  {
   "cell_type": "code",
   "execution_count": 69,
   "metadata": {},
   "outputs": [],
   "source": [
    "#Fill missing values\n",
    "test_model3['total_units'].fillna(test_model3['total_units'].mean(),inplace=True)\n",
    "test_model3['bedrooms'].fillna(test_model3['bedrooms'].mean(),inplace=True)\n",
    "test_model3['baths'].fillna(test_model3['baths'].mean(),inplace=True)\n",
    "test_model3['nearby_supermarkets'].fillna(test_model3['nearby_supermarkets'].mean(),inplace=True)"
   ]
  },
  {
   "cell_type": "code",
   "execution_count": 70,
   "metadata": {
    "tags": []
   },
   "outputs": [
    {
     "data": {
      "text/html": [
       "<div>\n",
       "<style scoped>\n",
       "    .dataframe tbody tr th:only-of-type {\n",
       "        vertical-align: middle;\n",
       "    }\n",
       "\n",
       "    .dataframe tbody tr th {\n",
       "        vertical-align: top;\n",
       "    }\n",
       "\n",
       "    .dataframe thead th {\n",
       "        text-align: right;\n",
       "    }\n",
       "</style>\n",
       "<table border=\"1\" class=\"dataframe\">\n",
       "  <thead>\n",
       "    <tr style=\"text-align: right;\">\n",
       "      <th></th>\n",
       "      <th>total_units</th>\n",
       "      <th>bedrooms</th>\n",
       "      <th>baths</th>\n",
       "      <th>floor_area</th>\n",
       "      <th>nearby_stations</th>\n",
       "      <th>nearby_supermarkets</th>\n",
       "      <th>nearby_shops</th>\n",
       "      <th>year_built</th>\n",
       "      <th>province_Nonthaburi</th>\n",
       "      <th>province_Samut Prakan</th>\n",
       "      <th>...</th>\n",
       "      <th>district_Taling Chan</th>\n",
       "      <th>district_Thawi Watthana</th>\n",
       "      <th>district_Thon Buri</th>\n",
       "      <th>district_Thung Khru</th>\n",
       "      <th>district_Wang Thonglang</th>\n",
       "      <th>district_Watthana</th>\n",
       "      <th>district_Yan Nawa</th>\n",
       "      <th>property_type_Detached House</th>\n",
       "      <th>property_type_Townhouse</th>\n",
       "      <th>Facility</th>\n",
       "    </tr>\n",
       "  </thead>\n",
       "  <tbody>\n",
       "    <tr>\n",
       "      <th>0</th>\n",
       "      <td>800.0</td>\n",
       "      <td>4.0</td>\n",
       "      <td>3.0</td>\n",
       "      <td>120</td>\n",
       "      <td>0</td>\n",
       "      <td>9.0</td>\n",
       "      <td>5</td>\n",
       "      <td>0</td>\n",
       "      <td>False</td>\n",
       "      <td>True</td>\n",
       "      <td>...</td>\n",
       "      <td>False</td>\n",
       "      <td>False</td>\n",
       "      <td>False</td>\n",
       "      <td>False</td>\n",
       "      <td>False</td>\n",
       "      <td>False</td>\n",
       "      <td>False</td>\n",
       "      <td>True</td>\n",
       "      <td>False</td>\n",
       "      <td>6</td>\n",
       "    </tr>\n",
       "    <tr>\n",
       "      <th>1</th>\n",
       "      <td>107.0</td>\n",
       "      <td>4.0</td>\n",
       "      <td>3.0</td>\n",
       "      <td>188</td>\n",
       "      <td>0</td>\n",
       "      <td>9.0</td>\n",
       "      <td>5</td>\n",
       "      <td>2020</td>\n",
       "      <td>False</td>\n",
       "      <td>False</td>\n",
       "      <td>...</td>\n",
       "      <td>False</td>\n",
       "      <td>False</td>\n",
       "      <td>False</td>\n",
       "      <td>False</td>\n",
       "      <td>False</td>\n",
       "      <td>False</td>\n",
       "      <td>False</td>\n",
       "      <td>True</td>\n",
       "      <td>False</td>\n",
       "      <td>4</td>\n",
       "    </tr>\n",
       "  </tbody>\n",
       "</table>\n",
       "<p>2 rows × 70 columns</p>\n",
       "</div>"
      ],
      "text/plain": [
       "   total_units  bedrooms  baths  floor_area  nearby_stations  \\\n",
       "0        800.0       4.0    3.0         120                0   \n",
       "1        107.0       4.0    3.0         188                0   \n",
       "\n",
       "   nearby_supermarkets  nearby_shops  year_built  province_Nonthaburi  \\\n",
       "0                  9.0             5           0                False   \n",
       "1                  9.0             5        2020                False   \n",
       "\n",
       "   province_Samut Prakan  ...  district_Taling Chan  district_Thawi Watthana  \\\n",
       "0                   True  ...                 False                    False   \n",
       "1                  False  ...                 False                    False   \n",
       "\n",
       "   district_Thon Buri  district_Thung Khru  district_Wang Thonglang  \\\n",
       "0               False                False                    False   \n",
       "1               False                False                    False   \n",
       "\n",
       "   district_Watthana  district_Yan Nawa  property_type_Detached House  \\\n",
       "0              False              False                          True   \n",
       "1              False              False                          True   \n",
       "\n",
       "   property_type_Townhouse  Facility  \n",
       "0                    False         6  \n",
       "1                    False         4  \n",
       "\n",
       "[2 rows x 70 columns]"
      ]
     },
     "execution_count": 70,
     "metadata": {},
     "output_type": "execute_result"
    }
   ],
   "source": [
    "test_model3.head(2)"
   ]
  },
  {
   "cell_type": "code",
   "execution_count": 71,
   "metadata": {},
   "outputs": [],
   "source": [
    "X3_test_scaled = ss3.transform(test_model3) #sclaed prepping for prediction"
   ]
  },
  {
   "cell_type": "code",
   "execution_count": 72,
   "metadata": {},
   "outputs": [],
   "source": [
    "X3 = test_model3[Features] #Features for prediction\n",
    "fit_test = lasso3.fit(X_train_scaled3,y_train3) #fit model\n",
    "test_model3['price'] = fit_test.predict(X3_test_scaled) #predict\n"
   ]
  },
  {
   "cell_type": "code",
   "execution_count": 73,
   "metadata": {},
   "outputs": [
    {
     "data": {
      "text/html": [
       "<div>\n",
       "<style scoped>\n",
       "    .dataframe tbody tr th:only-of-type {\n",
       "        vertical-align: middle;\n",
       "    }\n",
       "\n",
       "    .dataframe tbody tr th {\n",
       "        vertical-align: top;\n",
       "    }\n",
       "\n",
       "    .dataframe thead th {\n",
       "        text-align: right;\n",
       "    }\n",
       "</style>\n",
       "<table border=\"1\" class=\"dataframe\">\n",
       "  <thead>\n",
       "    <tr style=\"text-align: right;\">\n",
       "      <th></th>\n",
       "      <th>total_units</th>\n",
       "      <th>bedrooms</th>\n",
       "      <th>baths</th>\n",
       "      <th>floor_area</th>\n",
       "      <th>nearby_stations</th>\n",
       "      <th>nearby_supermarkets</th>\n",
       "      <th>nearby_shops</th>\n",
       "      <th>year_built</th>\n",
       "      <th>province_Nonthaburi</th>\n",
       "      <th>province_Samut Prakan</th>\n",
       "      <th>...</th>\n",
       "      <th>district_Thawi Watthana</th>\n",
       "      <th>district_Thon Buri</th>\n",
       "      <th>district_Thung Khru</th>\n",
       "      <th>district_Wang Thonglang</th>\n",
       "      <th>district_Watthana</th>\n",
       "      <th>district_Yan Nawa</th>\n",
       "      <th>property_type_Detached House</th>\n",
       "      <th>property_type_Townhouse</th>\n",
       "      <th>Facility</th>\n",
       "      <th>price</th>\n",
       "    </tr>\n",
       "  </thead>\n",
       "  <tbody>\n",
       "    <tr>\n",
       "      <th>0</th>\n",
       "      <td>800.0</td>\n",
       "      <td>4.0</td>\n",
       "      <td>3.0</td>\n",
       "      <td>120</td>\n",
       "      <td>0</td>\n",
       "      <td>9.0</td>\n",
       "      <td>5</td>\n",
       "      <td>0</td>\n",
       "      <td>False</td>\n",
       "      <td>True</td>\n",
       "      <td>...</td>\n",
       "      <td>False</td>\n",
       "      <td>False</td>\n",
       "      <td>False</td>\n",
       "      <td>False</td>\n",
       "      <td>False</td>\n",
       "      <td>False</td>\n",
       "      <td>True</td>\n",
       "      <td>False</td>\n",
       "      <td>6</td>\n",
       "      <td>5.688339e+06</td>\n",
       "    </tr>\n",
       "    <tr>\n",
       "      <th>1</th>\n",
       "      <td>107.0</td>\n",
       "      <td>4.0</td>\n",
       "      <td>3.0</td>\n",
       "      <td>188</td>\n",
       "      <td>0</td>\n",
       "      <td>9.0</td>\n",
       "      <td>5</td>\n",
       "      <td>2020</td>\n",
       "      <td>False</td>\n",
       "      <td>False</td>\n",
       "      <td>...</td>\n",
       "      <td>False</td>\n",
       "      <td>False</td>\n",
       "      <td>False</td>\n",
       "      <td>False</td>\n",
       "      <td>False</td>\n",
       "      <td>False</td>\n",
       "      <td>True</td>\n",
       "      <td>False</td>\n",
       "      <td>4</td>\n",
       "      <td>5.693786e+06</td>\n",
       "    </tr>\n",
       "  </tbody>\n",
       "</table>\n",
       "<p>2 rows × 71 columns</p>\n",
       "</div>"
      ],
      "text/plain": [
       "   total_units  bedrooms  baths  floor_area  nearby_stations  \\\n",
       "0        800.0       4.0    3.0         120                0   \n",
       "1        107.0       4.0    3.0         188                0   \n",
       "\n",
       "   nearby_supermarkets  nearby_shops  year_built  province_Nonthaburi  \\\n",
       "0                  9.0             5           0                False   \n",
       "1                  9.0             5        2020                False   \n",
       "\n",
       "   province_Samut Prakan  ...  district_Thawi Watthana  district_Thon Buri  \\\n",
       "0                   True  ...                    False               False   \n",
       "1                  False  ...                    False               False   \n",
       "\n",
       "   district_Thung Khru  district_Wang Thonglang  district_Watthana  \\\n",
       "0                False                    False              False   \n",
       "1                False                    False              False   \n",
       "\n",
       "   district_Yan Nawa  property_type_Detached House  property_type_Townhouse  \\\n",
       "0              False                          True                    False   \n",
       "1              False                          True                    False   \n",
       "\n",
       "   Facility         price  \n",
       "0         6  5.688339e+06  \n",
       "1         4  5.693786e+06  \n",
       "\n",
       "[2 rows x 71 columns]"
      ]
     },
     "execution_count": 73,
     "metadata": {},
     "output_type": "execute_result"
    }
   ],
   "source": [
    "test_model3.head(2) #check"
   ]
  },
  {
   "cell_type": "code",
   "execution_count": 74,
   "metadata": {},
   "outputs": [
    {
     "data": {
      "text/plain": [
       "(2500, 71)"
      ]
     },
     "execution_count": 74,
     "metadata": {},
     "output_type": "execute_result"
    }
   ],
   "source": [
    "test_model3.shape"
   ]
  },
  {
   "cell_type": "code",
   "execution_count": 75,
   "metadata": {
    "tags": []
   },
   "outputs": [],
   "source": [
    "df_submit3 = pd.DataFrame(test_df, columns=['id']) #create data frame from id for submission"
   ]
  },
  {
   "cell_type": "code",
   "execution_count": 76,
   "metadata": {},
   "outputs": [],
   "source": [
    "df_submit3['price'] = test_model3['price'] #add price"
   ]
  },
  {
   "cell_type": "code",
   "execution_count": 77,
   "metadata": {
    "tags": []
   },
   "outputs": [
    {
     "data": {
      "text/html": [
       "<div>\n",
       "<style scoped>\n",
       "    .dataframe tbody tr th:only-of-type {\n",
       "        vertical-align: middle;\n",
       "    }\n",
       "\n",
       "    .dataframe tbody tr th {\n",
       "        vertical-align: top;\n",
       "    }\n",
       "\n",
       "    .dataframe thead th {\n",
       "        text-align: right;\n",
       "    }\n",
       "</style>\n",
       "<table border=\"1\" class=\"dataframe\">\n",
       "  <thead>\n",
       "    <tr style=\"text-align: right;\">\n",
       "      <th></th>\n",
       "      <th>id</th>\n",
       "      <th>price</th>\n",
       "    </tr>\n",
       "  </thead>\n",
       "  <tbody>\n",
       "    <tr>\n",
       "      <th>0</th>\n",
       "      <td>10317868</td>\n",
       "      <td>5.688339e+06</td>\n",
       "    </tr>\n",
       "    <tr>\n",
       "      <th>1</th>\n",
       "      <td>10885829</td>\n",
       "      <td>5.693786e+06</td>\n",
       "    </tr>\n",
       "  </tbody>\n",
       "</table>\n",
       "</div>"
      ],
      "text/plain": [
       "         id         price\n",
       "0  10317868  5.688339e+06\n",
       "1  10885829  5.693786e+06"
      ]
     },
     "execution_count": 77,
     "metadata": {},
     "output_type": "execute_result"
    }
   ],
   "source": [
    "df_submit3.head(2) #check"
   ]
  },
  {
   "cell_type": "code",
   "execution_count": 78,
   "metadata": {},
   "outputs": [],
   "source": [
    "df_submit3.to_csv('submission_model3.csv', index=False) #export model3"
   ]
  },
  {
   "cell_type": "markdown",
   "metadata": {},
   "source": [
    "# *Model 4 : Calibrating - Further Imputation, Add more & Drop unnecessary features* (Floor_Level, Dummy Station Brand, Station Distance)"
   ]
  },
  {
   "cell_type": "markdown",
   "metadata": {
    "tags": []
   },
   "source": [
    "## Analyze more features"
   ]
  },
  {
   "cell_type": "code",
   "execution_count": 79,
   "metadata": {},
   "outputs": [
    {
     "data": {
      "text/plain": [
       "property_type\n",
       "Condo             9206\n",
       "Townhouse         2896\n",
       "Detached House    2169\n",
       "Name: count, dtype: int64"
      ]
     },
     "execution_count": 79,
     "metadata": {},
     "output_type": "execute_result"
    }
   ],
   "source": [
    "#Trying to get better model by considering add more features which involve in more imputation and feature engineering\n",
    "train_df['property_type'].value_counts() "
   ]
  },
  {
   "cell_type": "code",
   "execution_count": 80,
   "metadata": {},
   "outputs": [
    {
     "name": "stdout",
     "output_type": "stream",
     "text": [
      "0.2018248968064306\n",
      "0.8546270718232044\n",
      "0.8506224066390041\n"
     ]
    }
   ],
   "source": [
    "print(train_df['floor_level'][train_df['property_type']=='Condo'].isna().sum()/9206) #check na portion Condo\n",
    "print(train_df['floor_level'][train_df['property_type']=='Townhouse'].isna().sum()/2896) #check na portion Townhouse\n",
    "print(train_df['floor_level'][train_df['property_type']=='Detached House'].isna().sum()/2169) #check na portion Detached house\n",
    "\n",
    "## Only most of Townhouse and Detached House is missing 'floor_level' values. I think it is proper to fill missing value with 1"
   ]
  },
  {
   "cell_type": "code",
   "execution_count": 81,
   "metadata": {
    "tags": []
   },
   "outputs": [],
   "source": [
    "train_df['floor_level'].fillna(1,inplace=True) \n",
    "## Add Floor_level to feature with 1 since it will fill mostly in Townhosue and Detached House which is horizontal estate."
   ]
  },
  {
   "cell_type": "code",
   "execution_count": 82,
   "metadata": {
    "tags": []
   },
   "outputs": [
    {
     "data": {
      "text/plain": [
       "property_type\n",
       "Condo             1072\n",
       "Detached House       1\n",
       "Name: count, dtype: int64"
      ]
     },
     "execution_count": 82,
     "metadata": {},
     "output_type": "execute_result"
    }
   ],
   "source": [
    "train_df[train_df['floor_level']>22]['property_type'].value_counts() #Check any outliers"
   ]
  },
  {
   "cell_type": "code",
   "execution_count": 83,
   "metadata": {
    "tags": []
   },
   "outputs": [
    {
     "data": {
      "text/html": [
       "<div>\n",
       "<style scoped>\n",
       "    .dataframe tbody tr th:only-of-type {\n",
       "        vertical-align: middle;\n",
       "    }\n",
       "\n",
       "    .dataframe tbody tr th {\n",
       "        vertical-align: top;\n",
       "    }\n",
       "\n",
       "    .dataframe thead th {\n",
       "        text-align: right;\n",
       "    }\n",
       "</style>\n",
       "<table border=\"1\" class=\"dataframe\">\n",
       "  <thead>\n",
       "    <tr style=\"text-align: right;\">\n",
       "      <th></th>\n",
       "      <th>id</th>\n",
       "      <th>province</th>\n",
       "      <th>district</th>\n",
       "      <th>subdistrict</th>\n",
       "      <th>address</th>\n",
       "      <th>property_type</th>\n",
       "      <th>total_units</th>\n",
       "      <th>bedrooms</th>\n",
       "      <th>baths</th>\n",
       "      <th>floor_area</th>\n",
       "      <th>...</th>\n",
       "      <th>longitude</th>\n",
       "      <th>nearby_stations</th>\n",
       "      <th>nearby_station_distance</th>\n",
       "      <th>nearby_bus_stops</th>\n",
       "      <th>nearby_supermarkets</th>\n",
       "      <th>nearby_shops</th>\n",
       "      <th>year_built</th>\n",
       "      <th>month_built</th>\n",
       "      <th>facilities</th>\n",
       "      <th>price</th>\n",
       "    </tr>\n",
       "  </thead>\n",
       "  <tbody>\n",
       "    <tr>\n",
       "      <th>8874</th>\n",
       "      <td>10979080</td>\n",
       "      <td>Bangkok</td>\n",
       "      <td>Lat Phrao</td>\n",
       "      <td>Lat Phrao</td>\n",
       "      <td>Lat Phrao</td>\n",
       "      <td>Detached House</td>\n",
       "      <td>NaN</td>\n",
       "      <td>1.0</td>\n",
       "      <td>1.0</td>\n",
       "      <td>30</td>\n",
       "      <td>...</td>\n",
       "      <td>100.608712</td>\n",
       "      <td>0</td>\n",
       "      <td>None</td>\n",
       "      <td>18.0</td>\n",
       "      <td>6.0</td>\n",
       "      <td>6</td>\n",
       "      <td>0</td>\n",
       "      <td>None</td>\n",
       "      <td>[]</td>\n",
       "      <td>1350000</td>\n",
       "    </tr>\n",
       "    <tr>\n",
       "      <th>10889</th>\n",
       "      <td>11032181</td>\n",
       "      <td>Nonthaburi</td>\n",
       "      <td>Mueang Nonthaburi</td>\n",
       "      <td>Tha Sai</td>\n",
       "      <td>Soi Samakkhi 60/2</td>\n",
       "      <td>Detached House</td>\n",
       "      <td>NaN</td>\n",
       "      <td>1.0</td>\n",
       "      <td>1.0</td>\n",
       "      <td>51</td>\n",
       "      <td>...</td>\n",
       "      <td>100.544724</td>\n",
       "      <td>0</td>\n",
       "      <td>None</td>\n",
       "      <td>20.0</td>\n",
       "      <td>6.0</td>\n",
       "      <td>8</td>\n",
       "      <td>0</td>\n",
       "      <td>None</td>\n",
       "      <td>[Car Park]</td>\n",
       "      <td>2200000</td>\n",
       "    </tr>\n",
       "    <tr>\n",
       "      <th>11030</th>\n",
       "      <td>9800284</td>\n",
       "      <td>Nonthaburi</td>\n",
       "      <td>Pak Kret</td>\n",
       "      <td>Khlong Khoi</td>\n",
       "      <td>Chaiya Phruk Road</td>\n",
       "      <td>Detached House</td>\n",
       "      <td>406.0</td>\n",
       "      <td>3.0</td>\n",
       "      <td>3.0</td>\n",
       "      <td>197</td>\n",
       "      <td>...</td>\n",
       "      <td>100.476854</td>\n",
       "      <td>0</td>\n",
       "      <td>None</td>\n",
       "      <td>NaN</td>\n",
       "      <td>1.0</td>\n",
       "      <td>1</td>\n",
       "      <td>2007</td>\n",
       "      <td>None</td>\n",
       "      <td>[Car Park, Clubhouse, Community Garden, CCTV, ...</td>\n",
       "      <td>8800000</td>\n",
       "    </tr>\n",
       "    <tr>\n",
       "      <th>11989</th>\n",
       "      <td>9014167</td>\n",
       "      <td>Bangkok</td>\n",
       "      <td>Khlong Sam Wa</td>\n",
       "      <td>Sam Wa Tawan Tok</td>\n",
       "      <td>Panya Inthra Road</td>\n",
       "      <td>Detached House</td>\n",
       "      <td>210.0</td>\n",
       "      <td>4.0</td>\n",
       "      <td>4.0</td>\n",
       "      <td>233</td>\n",
       "      <td>...</td>\n",
       "      <td>100.708771</td>\n",
       "      <td>0</td>\n",
       "      <td>None</td>\n",
       "      <td>1.0</td>\n",
       "      <td>NaN</td>\n",
       "      <td>1</td>\n",
       "      <td>0</td>\n",
       "      <td>None</td>\n",
       "      <td>[Car Park, Community Garden, CCTV, Fitness cor...</td>\n",
       "      <td>8300000</td>\n",
       "    </tr>\n",
       "  </tbody>\n",
       "</table>\n",
       "<p>4 rows × 23 columns</p>\n",
       "</div>"
      ],
      "text/plain": [
       "             id    province           district       subdistrict  \\\n",
       "8874   10979080     Bangkok          Lat Phrao         Lat Phrao   \n",
       "10889  11032181  Nonthaburi  Mueang Nonthaburi           Tha Sai   \n",
       "11030   9800284  Nonthaburi           Pak Kret       Khlong Khoi   \n",
       "11989   9014167     Bangkok      Khlong Sam Wa  Sam Wa Tawan Tok   \n",
       "\n",
       "                 address   property_type  total_units  bedrooms  baths  \\\n",
       "8874           Lat Phrao  Detached House          NaN       1.0    1.0   \n",
       "10889  Soi Samakkhi 60/2  Detached House          NaN       1.0    1.0   \n",
       "11030  Chaiya Phruk Road  Detached House        406.0       3.0    3.0   \n",
       "11989  Panya Inthra Road  Detached House        210.0       4.0    4.0   \n",
       "\n",
       "       floor_area  ...   longitude  nearby_stations  nearby_station_distance  \\\n",
       "8874           30  ...  100.608712                0                     None   \n",
       "10889          51  ...  100.544724                0                     None   \n",
       "11030         197  ...  100.476854                0                     None   \n",
       "11989         233  ...  100.708771                0                     None   \n",
       "\n",
       "       nearby_bus_stops  nearby_supermarkets nearby_shops  year_built  \\\n",
       "8874               18.0                  6.0            6           0   \n",
       "10889              20.0                  6.0            8           0   \n",
       "11030               NaN                  1.0            1        2007   \n",
       "11989               1.0                  NaN            1           0   \n",
       "\n",
       "       month_built                                         facilities    price  \n",
       "8874          None                                                 []  1350000  \n",
       "10889         None                                         [Car Park]  2200000  \n",
       "11030         None  [Car Park, Clubhouse, Community Garden, CCTV, ...  8800000  \n",
       "11989         None  [Car Park, Community Garden, CCTV, Fitness cor...  8300000  \n",
       "\n",
       "[4 rows x 23 columns]"
      ]
     },
     "execution_count": 83,
     "metadata": {},
     "output_type": "execute_result"
    }
   ],
   "source": [
    "train_df[(train_df['floor_level'] >= 5) & (train_df['property_type'] =='Detached House' )]\n",
    "#Alternative  #Check any outliers cont."
   ]
  },
  {
   "cell_type": "code",
   "execution_count": 84,
   "metadata": {
    "tags": []
   },
   "outputs": [],
   "source": [
    "train_df.drop(index=[10889,11030,11989,8874],inplace=True,axis=1) #Manually delete outlier rows"
   ]
  },
  {
   "cell_type": "code",
   "execution_count": 85,
   "metadata": {
    "tags": []
   },
   "outputs": [
    {
     "name": "stdout",
     "output_type": "stream",
     "text": [
      "1.0\n",
      "0.03211325966850829\n",
      "0.024435223605348087\n"
     ]
    }
   ],
   "source": [
    "print(train_df['land_area'][train_df['property_type']=='Condo'].isna().sum()/9206)\n",
    "print(train_df['land_area'][train_df['property_type']=='Townhouse'].isna().sum()/2896)\n",
    "print(train_df['land_area'][train_df['property_type']=='Detached House'].isna().sum()/2169)\n",
    "## Land Area is not proper to be use because it may only effect on Condo only due to lack of data in Condo"
   ]
  },
  {
   "cell_type": "code",
   "execution_count": 86,
   "metadata": {
    "tags": []
   },
   "outputs": [],
   "source": [
    "train_df.loc[train_df['property_type']=='Condo', 'land_area'] = 0 #assign value land_area in condo to 0 since its 100% missing"
   ]
  },
  {
   "cell_type": "code",
   "execution_count": 87,
   "metadata": {
    "tags": []
   },
   "outputs": [],
   "source": [
    "train_df.loc[train_df['land_area'].isna(), 'land_area'].dropna(inplace=True) #drop 3% ad 2% missing values in Townhouse and Detached house"
   ]
  },
  {
   "cell_type": "code",
   "execution_count": 88,
   "metadata": {
    "tags": []
   },
   "outputs": [
    {
     "data": {
      "text/plain": [
       "nearby_station_distance\n",
       "[[PP10 Bang Krasor MRT, 260], [PP09 Yaek Nonthaburi 1 MRT, 980]]                         56\n",
       "[[BL15 Lat Phrao MRT, 140], [BL16 Ratchadaphisek MRT, 690]]                              52\n",
       "[[E6 Thong Lo BTS, 290], [E7 Ekkamai BTS, 930]]                                          49\n",
       "[[BL18 Huai Khwang MRT, 250]]                                                            45\n",
       "[[PP09 Yaek Nonthaburi 1 MRT, 10]]                                                       45\n",
       "[[PP01 Khlong Bang Phai MRT, 370]]                                                       45\n",
       "[[E16 Pu Chao BTS, 140], [E15 Samrong BTS, 980]]                                         44\n",
       "[[E2 Ploen Chit BTS, 520], [E1 Chit Lom BTS, 790]]                                       42\n",
       "[[BL23 Queen Sirikit National Convention Centre MRT, 780], [E5 Phrom Phong BTS, 890]]    42\n",
       "[[E11 Punnawithi BTS, 760], [E12 Udom Suk BTS, 820]]                                     42\n",
       "[[E13 Bang Na BTS, 570], [E12 Udom Suk BTS, 850]]                                        41\n",
       "[[E8 Phra Khanong BTS, 550], [E9 On Nut BTS, 980]]                                       41\n",
       "[[E6 Thong Lo BTS, 70]]                                                                  40\n",
       "[[PP13 Yaek Tiwanon MRT, 250], [PP12 Ministry of Public Health MRT, 840]]                39\n",
       "[[BL20 Phra Ram 9 MRT, 340], [A6 Makkasan Airport Link, 540], [E4 Asok BTS, 640]]        39\n",
       "[[PP08 Phra Nang Klao Bridge MRT, 500]]                                                  38\n",
       "[[PP03 Sam Yaek Bang Yai MRT, 670], [PP02 Talad Bang Yai MRT, 670]]                      37\n",
       "[[N6 Sena Ruam BTS, 300], [N7 Saphan Kwai BTS, 700]]                                     36\n",
       "[[S6 Saphan Taksin BTS, 330], [S5 Surasak BTS, 570]]                                     36\n",
       "[[E5 Phrom Phong BTS, 650], [BL23 Queen Sirikit National Convention Centre MRT, 770]]    36\n",
       "Name: count, dtype: int64"
      ]
     },
     "execution_count": 88,
     "metadata": {},
     "output_type": "execute_result"
    }
   ],
   "source": [
    "train_df['nearby_station_distance'].value_counts().head(20) #check pattern in nearby_station distance\n",
    "#MRT, BTS, SRT, Airport Link"
   ]
  },
  {
   "cell_type": "code",
   "execution_count": 89,
   "metadata": {},
   "outputs": [],
   "source": [
    "# function for .apply() column `nearby_station_distance` \n",
    "def get_train_count(station_list, train_name='MRT'):\n",
    "    if type(station_list) != list:\n",
    "        return 0\n",
    "    else:\n",
    "        count = 0\n",
    "        for pair in station_list:\n",
    "            if train_name in pair[0]:\n",
    "                count += 1\n",
    "        return count\n",
    "\n",
    "#Application\n",
    "#df['mrt_count'] = train_df['nearby_station_distance'].apply(lambda x: get_train_count(x, 'MRT'))"
   ]
  },
  {
   "cell_type": "code",
   "execution_count": 90,
   "metadata": {
    "tags": []
   },
   "outputs": [],
   "source": [
    "#get distance from nearest station\n",
    "def closest_station(station_list, return_value='station_name'):\n",
    "    if type(station_list) != list:\n",
    "        if return_value == 'station_name':\n",
    "            return \"NO STATION\"\n",
    "        elif return_value == 'station_distance':\n",
    "            return 2000\n",
    "    else:\n",
    "        if return_value == 'station_name':\n",
    "            return station_list[0][0]\n",
    "        elif return_value == 'station_distance':\n",
    "            return station_list[0][1]\n",
    "\n",
    "#Application\n",
    "#df['distance'] = df.apply(distance, axis=1)\n",
    "#df['closest_station_name'] = df.nearby_station_distance.apply(lambda x: closest_station(x, 'station_name'))\n",
    "#df['closest_station_distance'] = df.nearby_station_distance.apply(lambda x: closest_station(x, 'station_distance'))"
   ]
  },
  {
   "cell_type": "markdown",
   "metadata": {},
   "source": [
    "## Train Sheet // Fit Model"
   ]
  },
  {
   "cell_type": "code",
   "execution_count": 120,
   "metadata": {
    "tags": []
   },
   "outputs": [],
   "source": [
    "#Add features to model4\n",
    "model4 = train_df[['province','district','property_type','total_units','latitude','longitude','land_area','floor_area','bedrooms','baths','floor_level','nearby_station_distance','nearby_stations','nearby_supermarkets','nearby_shops','year_built','month_built','price']]"
   ]
  },
  {
   "cell_type": "code",
   "execution_count": 121,
   "metadata": {},
   "outputs": [],
   "source": [
    "expected_dummy_features4 = ['province','district','property_type'] #dummify 3 features\n",
    "model4 = pd.get_dummies(model4,columns=expected_dummy_features4, drop_first=True)"
   ]
  },
  {
   "cell_type": "code",
   "execution_count": 122,
   "metadata": {},
   "outputs": [],
   "source": [
    "model4['mrt_count'] = train_df['nearby_station_distance'].apply(lambda x: get_train_count(x, 'MRT'))\n",
    "model4['bts_count'] = train_df['nearby_station_distance'].apply(lambda x: get_train_count(x, 'BTS'))\n",
    "model4['srt_count'] = train_df['nearby_station_distance'].apply(lambda x: get_train_count(x, 'SRT'))\n",
    "model4['arl_count'] = train_df['nearby_station_distance'].apply(lambda x: get_train_count(x, 'Airport Link'))\n",
    "\n",
    "model4['closest_station_distance'] = train_df['nearby_station_distance'].apply(lambda x: closest_station(x, 'station_distance')) #Add nearest distance column\n",
    "\n",
    "#Fill na\n",
    "model4['total_units'].fillna(model4['total_units'].mean(),inplace=True)\n",
    "model4['bedrooms'].fillna(model4['bedrooms'].mean(),inplace=True)\n",
    "model4['baths'].fillna(model4['baths'].mean(),inplace=True)\n",
    "model4['nearby_supermarkets'].fillna(model4['nearby_supermarkets'].mean(),inplace=True)\n",
    "model4['floor_level'].fillna(1,inplace=True)\n",
    "#Model4 Rv.1\n",
    "model4['land_area'].fillna(model4['land_area'].mean(),inplace=True)\n",
    "model4['floor_area'].fillna(model4['floor_area'].mean(),inplace=True)\n",
    "model4['month_built'].fillna(6,inplace=True)\n",
    "\n",
    "#Call function to get train station count in each row in designated columns by brands"
   ]
  },
  {
   "cell_type": "code",
   "execution_count": 123,
   "metadata": {
    "tags": []
   },
   "outputs": [],
   "source": [
    "model4.drop(columns='nearby_station_distance', inplace=True)\n",
    "#drop prior columns that contains list object"
   ]
  },
  {
   "cell_type": "code",
   "execution_count": 124,
   "metadata": {},
   "outputs": [],
   "source": [
    "model4['total_units'].fillna(model4['total_units'].mean(),inplace=True) #fill na in total units with mean\n",
    "#Alternative .interpolate(method='linear',order=1)\n",
    "model4.drop_duplicates(inplace=True) #drop duplicates\n",
    "model4.dropna(inplace=True) #drop all missing values"
   ]
  },
  {
   "cell_type": "code",
   "execution_count": 125,
   "metadata": {
    "tags": []
   },
   "outputs": [
    {
     "data": {
      "text/html": [
       "<div>\n",
       "<style scoped>\n",
       "    .dataframe tbody tr th:only-of-type {\n",
       "        vertical-align: middle;\n",
       "    }\n",
       "\n",
       "    .dataframe tbody tr th {\n",
       "        vertical-align: top;\n",
       "    }\n",
       "\n",
       "    .dataframe thead th {\n",
       "        text-align: right;\n",
       "    }\n",
       "</style>\n",
       "<table border=\"1\" class=\"dataframe\">\n",
       "  <thead>\n",
       "    <tr style=\"text-align: right;\">\n",
       "      <th></th>\n",
       "      <th>total_units</th>\n",
       "      <th>latitude</th>\n",
       "      <th>longitude</th>\n",
       "      <th>land_area</th>\n",
       "      <th>floor_area</th>\n",
       "      <th>bedrooms</th>\n",
       "      <th>baths</th>\n",
       "      <th>floor_level</th>\n",
       "      <th>nearby_stations</th>\n",
       "      <th>nearby_supermarkets</th>\n",
       "      <th>...</th>\n",
       "      <th>district_Wang Thonglang</th>\n",
       "      <th>district_Watthana</th>\n",
       "      <th>district_Yan Nawa</th>\n",
       "      <th>property_type_Detached House</th>\n",
       "      <th>property_type_Townhouse</th>\n",
       "      <th>mrt_count</th>\n",
       "      <th>bts_count</th>\n",
       "      <th>srt_count</th>\n",
       "      <th>arl_count</th>\n",
       "      <th>closest_station_distance</th>\n",
       "    </tr>\n",
       "  </thead>\n",
       "  <tbody>\n",
       "    <tr>\n",
       "      <th>0</th>\n",
       "      <td>273.0</td>\n",
       "      <td>13.721944</td>\n",
       "      <td>100.584850</td>\n",
       "      <td>0.0</td>\n",
       "      <td>66</td>\n",
       "      <td>2.0</td>\n",
       "      <td>2.0</td>\n",
       "      <td>10.0</td>\n",
       "      <td>2</td>\n",
       "      <td>16.0</td>\n",
       "      <td>...</td>\n",
       "      <td>False</td>\n",
       "      <td>True</td>\n",
       "      <td>False</td>\n",
       "      <td>False</td>\n",
       "      <td>False</td>\n",
       "      <td>0</td>\n",
       "      <td>2</td>\n",
       "      <td>0</td>\n",
       "      <td>0</td>\n",
       "      <td>270</td>\n",
       "    </tr>\n",
       "    <tr>\n",
       "      <th>1</th>\n",
       "      <td>74.0</td>\n",
       "      <td>13.741904</td>\n",
       "      <td>100.566949</td>\n",
       "      <td>0.0</td>\n",
       "      <td>49</td>\n",
       "      <td>1.0</td>\n",
       "      <td>1.0</td>\n",
       "      <td>8.0</td>\n",
       "      <td>3</td>\n",
       "      <td>11.0</td>\n",
       "      <td>...</td>\n",
       "      <td>False</td>\n",
       "      <td>True</td>\n",
       "      <td>False</td>\n",
       "      <td>False</td>\n",
       "      <td>False</td>\n",
       "      <td>2</td>\n",
       "      <td>1</td>\n",
       "      <td>0</td>\n",
       "      <td>0</td>\n",
       "      <td>720</td>\n",
       "    </tr>\n",
       "  </tbody>\n",
       "</table>\n",
       "<p>2 rows × 80 columns</p>\n",
       "</div>"
      ],
      "text/plain": [
       "   total_units   latitude   longitude  land_area  floor_area  bedrooms  baths  \\\n",
       "0        273.0  13.721944  100.584850        0.0          66       2.0    2.0   \n",
       "1         74.0  13.741904  100.566949        0.0          49       1.0    1.0   \n",
       "\n",
       "   floor_level  nearby_stations  nearby_supermarkets  ...  \\\n",
       "0         10.0                2                 16.0  ...   \n",
       "1          8.0                3                 11.0  ...   \n",
       "\n",
       "   district_Wang Thonglang  district_Watthana district_Yan Nawa  \\\n",
       "0                    False               True             False   \n",
       "1                    False               True             False   \n",
       "\n",
       "   property_type_Detached House  property_type_Townhouse  mrt_count  \\\n",
       "0                         False                    False          0   \n",
       "1                         False                    False          2   \n",
       "\n",
       "   bts_count  srt_count  arl_count  closest_station_distance  \n",
       "0          2          0          0                       270  \n",
       "1          1          0          0                       720  \n",
       "\n",
       "[2 rows x 80 columns]"
      ]
     },
     "execution_count": 125,
     "metadata": {},
     "output_type": "execute_result"
    }
   ],
   "source": [
    "model4.head(2)"
   ]
  },
  {
   "cell_type": "code",
   "execution_count": 126,
   "metadata": {},
   "outputs": [],
   "source": [
    "Features = [col for col in model4._get_numeric_data().columns if col !=\"price\"] #iterate columns in model4 to assign X and Y\n",
    "X = model4[Features]\n",
    "y = model4['price']"
   ]
  },
  {
   "cell_type": "code",
   "execution_count": 127,
   "metadata": {},
   "outputs": [],
   "source": [
    "X_train4, X_test4, y_train4, y_test4 = train_test_split(X,y,test_size=0.8, random_state=42) #Split prep for cross validation"
   ]
  },
  {
   "cell_type": "code",
   "execution_count": 128,
   "metadata": {},
   "outputs": [
    {
     "data": {
      "text/plain": [
       "0.6073082679001851"
      ]
     },
     "execution_count": 128,
     "metadata": {},
     "output_type": "execute_result"
    }
   ],
   "source": [
    "#Fit model\n",
    "lr4 = LinearRegression()\n",
    "fit_model4 = lr4.fit(X_train4, y_train4)\n",
    "#R2 Train CV\n",
    "cross_val_score(lr4, X_train4, y_train4, cv=10).mean()"
   ]
  },
  {
   "cell_type": "code",
   "execution_count": 129,
   "metadata": {
    "tags": []
   },
   "outputs": [
    {
     "data": {
      "text/plain": [
       "0.6311350531122404"
      ]
     },
     "execution_count": 129,
     "metadata": {},
     "output_type": "execute_result"
    }
   ],
   "source": [
    "#R2 Test\n",
    "lr4.score(X_test4, y_test4) \n",
    "#Score kinda close we can try scaling"
   ]
  },
  {
   "cell_type": "code",
   "execution_count": 130,
   "metadata": {},
   "outputs": [
    {
     "data": {
      "text/plain": [
       "1319560.9544189717"
      ]
     },
     "execution_count": 130,
     "metadata": {},
     "output_type": "execute_result"
    }
   ],
   "source": [
    "#RMSE\n",
    "y_pred4 = fit_model4.predict(X)\n",
    "mean_squared_error(y, y_pred4, squared=False)"
   ]
  },
  {
   "cell_type": "markdown",
   "metadata": {},
   "source": [
    "## Train Sheet // Try Scaling + L1 Regularization"
   ]
  },
  {
   "cell_type": "code",
   "execution_count": 131,
   "metadata": {},
   "outputs": [],
   "source": [
    "# Initialize the StandardScaler object\n",
    "ss4 = StandardScaler()\n",
    "ss4.fit(X_train4)\n",
    "\n",
    "# Scale your X features\n",
    "X_train_scaled4 = ss4.transform(X_train4)\n",
    "X_test_scaled4 = ss4.transform(X_test4)"
   ]
  },
  {
   "cell_type": "code",
   "execution_count": 132,
   "metadata": {
    "tags": []
   },
   "outputs": [
    {
     "name": "stdout",
     "output_type": "stream",
     "text": [
      "[0.57967611 0.6205141  0.61350148 0.58440946 0.58111448 0.52880808\n",
      " 0.60739734 0.66853448 0.65361806 0.63636211]\n",
      "0.6073935704448505\n"
     ]
    }
   ],
   "source": [
    "lr4.fit(X_train_scaled4,y_train4) #Fit Linear Model with Scaled Data\n",
    "lr4_scores = cross_val_score (lr4, X_train_scaled4, y_train4, cv=10) #Obtain Cross-validation scores\n",
    "print(lr4_scores) #Cross Validation Score\n",
    "print(lr4_scores.mean()) #Obtain MEAN Cross-validation score"
   ]
  },
  {
   "cell_type": "code",
   "execution_count": 153,
   "metadata": {
    "tags": []
   },
   "outputs": [
    {
     "data": {
      "text/html": [
       "<style>#sk-container-id-8 {color: black;}#sk-container-id-8 pre{padding: 0;}#sk-container-id-8 div.sk-toggleable {background-color: white;}#sk-container-id-8 label.sk-toggleable__label {cursor: pointer;display: block;width: 100%;margin-bottom: 0;padding: 0.3em;box-sizing: border-box;text-align: center;}#sk-container-id-8 label.sk-toggleable__label-arrow:before {content: \"▸\";float: left;margin-right: 0.25em;color: #696969;}#sk-container-id-8 label.sk-toggleable__label-arrow:hover:before {color: black;}#sk-container-id-8 div.sk-estimator:hover label.sk-toggleable__label-arrow:before {color: black;}#sk-container-id-8 div.sk-toggleable__content {max-height: 0;max-width: 0;overflow: hidden;text-align: left;background-color: #f0f8ff;}#sk-container-id-8 div.sk-toggleable__content pre {margin: 0.2em;color: black;border-radius: 0.25em;background-color: #f0f8ff;}#sk-container-id-8 input.sk-toggleable__control:checked~div.sk-toggleable__content {max-height: 200px;max-width: 100%;overflow: auto;}#sk-container-id-8 input.sk-toggleable__control:checked~label.sk-toggleable__label-arrow:before {content: \"▾\";}#sk-container-id-8 div.sk-estimator input.sk-toggleable__control:checked~label.sk-toggleable__label {background-color: #d4ebff;}#sk-container-id-8 div.sk-label input.sk-toggleable__control:checked~label.sk-toggleable__label {background-color: #d4ebff;}#sk-container-id-8 input.sk-hidden--visually {border: 0;clip: rect(1px 1px 1px 1px);clip: rect(1px, 1px, 1px, 1px);height: 1px;margin: -1px;overflow: hidden;padding: 0;position: absolute;width: 1px;}#sk-container-id-8 div.sk-estimator {font-family: monospace;background-color: #f0f8ff;border: 1px dotted black;border-radius: 0.25em;box-sizing: border-box;margin-bottom: 0.5em;}#sk-container-id-8 div.sk-estimator:hover {background-color: #d4ebff;}#sk-container-id-8 div.sk-parallel-item::after {content: \"\";width: 100%;border-bottom: 1px solid gray;flex-grow: 1;}#sk-container-id-8 div.sk-label:hover label.sk-toggleable__label {background-color: #d4ebff;}#sk-container-id-8 div.sk-serial::before {content: \"\";position: absolute;border-left: 1px solid gray;box-sizing: border-box;top: 0;bottom: 0;left: 50%;z-index: 0;}#sk-container-id-8 div.sk-serial {display: flex;flex-direction: column;align-items: center;background-color: white;padding-right: 0.2em;padding-left: 0.2em;position: relative;}#sk-container-id-8 div.sk-item {position: relative;z-index: 1;}#sk-container-id-8 div.sk-parallel {display: flex;align-items: stretch;justify-content: center;background-color: white;position: relative;}#sk-container-id-8 div.sk-item::before, #sk-container-id-8 div.sk-parallel-item::before {content: \"\";position: absolute;border-left: 1px solid gray;box-sizing: border-box;top: 0;bottom: 0;left: 50%;z-index: -1;}#sk-container-id-8 div.sk-parallel-item {display: flex;flex-direction: column;z-index: 1;position: relative;background-color: white;}#sk-container-id-8 div.sk-parallel-item:first-child::after {align-self: flex-end;width: 50%;}#sk-container-id-8 div.sk-parallel-item:last-child::after {align-self: flex-start;width: 50%;}#sk-container-id-8 div.sk-parallel-item:only-child::after {width: 0;}#sk-container-id-8 div.sk-dashed-wrapped {border: 1px dashed gray;margin: 0 0.4em 0.5em 0.4em;box-sizing: border-box;padding-bottom: 0.4em;background-color: white;}#sk-container-id-8 div.sk-label label {font-family: monospace;font-weight: bold;display: inline-block;line-height: 1.2em;}#sk-container-id-8 div.sk-label-container {text-align: center;}#sk-container-id-8 div.sk-container {/* jupyter's `normalize.less` sets `[hidden] { display: none; }` but bootstrap.min.css set `[hidden] { display: none !important; }` so we also need the `!important` here to be able to override the default hidden behavior on the sphinx rendered scikit-learn.org. See: https://github.com/scikit-learn/scikit-learn/issues/21755 */display: inline-block !important;position: relative;}#sk-container-id-8 div.sk-text-repr-fallback {display: none;}</style><div id=\"sk-container-id-8\" class=\"sk-top-container\"><div class=\"sk-text-repr-fallback\"><pre>LassoCV(alphas=array([  100.,   200.,   300.,   400.,   500.,   600.,   700.,   800.,\n",
       "         900.,  1000.,  1100.,  1200.,  1300.,  1400.,  1500.,  1600.,\n",
       "        1700.,  1800.,  1900.,  2000.,  2100.,  2200.,  2300.,  2400.,\n",
       "        2500.,  2600.,  2700.,  2800.,  2900.,  3000.,  3100.,  3200.,\n",
       "        3300.,  3400.,  3500.,  3600.,  3700.,  3800.,  3900.,  4000.,\n",
       "        4100.,  4200.,  4300.,  4400.,  4500.,  4600.,  4700.,  4800.,\n",
       "        4900.,  5000.,  5100.,  5200.,  5300.,  5400.,  5500.,  5600.,\n",
       "        5700.,  5800.,  5900.,  6000.,  6100.,  6200.,  6300.,  6400.,\n",
       "        6500.,  6600.,  6700.,  6800.,  6900.,  7000.,  7100.,  7200.,\n",
       "        7300.,  7400.,  7500.,  7600.,  7700.,  7800.,  7900.,  8000.,\n",
       "        8100.,  8200.,  8300.,  8400.,  8500.,  8600.,  8700.,  8800.,\n",
       "        8900.,  9000.,  9100.,  9200.,  9300.,  9400.,  9500.,  9600.,\n",
       "        9700.,  9800.,  9900., 10000.]),\n",
       "        cv=5, max_iter=50000)</pre><b>In a Jupyter environment, please rerun this cell to show the HTML representation or trust the notebook. <br />On GitHub, the HTML representation is unable to render, please try loading this page with nbviewer.org.</b></div><div class=\"sk-container\" hidden><div class=\"sk-item\"><div class=\"sk-estimator sk-toggleable\"><input class=\"sk-toggleable__control sk-hidden--visually\" id=\"sk-estimator-id-8\" type=\"checkbox\" checked><label for=\"sk-estimator-id-8\" class=\"sk-toggleable__label sk-toggleable__label-arrow\">LassoCV</label><div class=\"sk-toggleable__content\"><pre>LassoCV(alphas=array([  100.,   200.,   300.,   400.,   500.,   600.,   700.,   800.,\n",
       "         900.,  1000.,  1100.,  1200.,  1300.,  1400.,  1500.,  1600.,\n",
       "        1700.,  1800.,  1900.,  2000.,  2100.,  2200.,  2300.,  2400.,\n",
       "        2500.,  2600.,  2700.,  2800.,  2900.,  3000.,  3100.,  3200.,\n",
       "        3300.,  3400.,  3500.,  3600.,  3700.,  3800.,  3900.,  4000.,\n",
       "        4100.,  4200.,  4300.,  4400.,  4500.,  4600.,  4700.,  4800.,\n",
       "        4900.,  5000.,  5100.,  5200.,  5300.,  5400.,  5500.,  5600.,\n",
       "        5700.,  5800.,  5900.,  6000.,  6100.,  6200.,  6300.,  6400.,\n",
       "        6500.,  6600.,  6700.,  6800.,  6900.,  7000.,  7100.,  7200.,\n",
       "        7300.,  7400.,  7500.,  7600.,  7700.,  7800.,  7900.,  8000.,\n",
       "        8100.,  8200.,  8300.,  8400.,  8500.,  8600.,  8700.,  8800.,\n",
       "        8900.,  9000.,  9100.,  9200.,  9300.,  9400.,  9500.,  9600.,\n",
       "        9700.,  9800.,  9900., 10000.]),\n",
       "        cv=5, max_iter=50000)</pre></div></div></div></div></div>"
      ],
      "text/plain": [
       "LassoCV(alphas=array([  100.,   200.,   300.,   400.,   500.,   600.,   700.,   800.,\n",
       "         900.,  1000.,  1100.,  1200.,  1300.,  1400.,  1500.,  1600.,\n",
       "        1700.,  1800.,  1900.,  2000.,  2100.,  2200.,  2300.,  2400.,\n",
       "        2500.,  2600.,  2700.,  2800.,  2900.,  3000.,  3100.,  3200.,\n",
       "        3300.,  3400.,  3500.,  3600.,  3700.,  3800.,  3900.,  4000.,\n",
       "        4100.,  4200.,  4300.,  4400.,  4500.,  4600.,  4700.,  4800.,\n",
       "        4900.,  5000.,  5100.,  5200.,  5300.,  5400.,  5500.,  5600.,\n",
       "        5700.,  5800.,  5900.,  6000.,  6100.,  6200.,  6300.,  6400.,\n",
       "        6500.,  6600.,  6700.,  6800.,  6900.,  7000.,  7100.,  7200.,\n",
       "        7300.,  7400.,  7500.,  7600.,  7700.,  7800.,  7900.,  8000.,\n",
       "        8100.,  8200.,  8300.,  8400.,  8500.,  8600.,  8700.,  8800.,\n",
       "        8900.,  9000.,  9100.,  9200.,  9300.,  9400.,  9500.,  9600.,\n",
       "        9700.,  9800.,  9900., 10000.]),\n",
       "        cv=5, max_iter=50000)"
      ]
     },
     "execution_count": 153,
     "metadata": {},
     "output_type": "execute_result"
    }
   ],
   "source": [
    "# Set up a list of Lasso alphas to check.\n",
    "l_alphas4 = np.linspace(100,10000,100) ##(10^0 until 10^100 pull for 100 values)\n",
    "# Cross-validate over our list of Lasso alphas.\n",
    "lasso_cv4 = LassoCV(alphas=l_alphas4, cv=5, max_iter=50000)\n",
    "# Fit model using best ridge alpha!\n",
    "lasso_cv4.fit(X_train_scaled4,y_train4)"
   ]
  },
  {
   "cell_type": "code",
   "execution_count": 164,
   "metadata": {
    "tags": []
   },
   "outputs": [
    {
     "name": "stdout",
     "output_type": "stream",
     "text": [
      "0.6373735343725246\n",
      "0.6316065276796822\n",
      "6700.0\n"
     ]
    }
   ],
   "source": [
    "print(lasso_cv4.score(X_train_scaled4,y_train4))\n",
    "print(lasso_cv4.score(X_test_scaled4,y_test4))\n",
    "print(lasso_cv4.alpha_)\n",
    "\n",
    "#Score for train data improves"
   ]
  },
  {
   "cell_type": "code",
   "execution_count": 165,
   "metadata": {
    "tags": []
   },
   "outputs": [
    {
     "data": {
      "text/html": [
       "<style>#sk-container-id-10 {color: black;}#sk-container-id-10 pre{padding: 0;}#sk-container-id-10 div.sk-toggleable {background-color: white;}#sk-container-id-10 label.sk-toggleable__label {cursor: pointer;display: block;width: 100%;margin-bottom: 0;padding: 0.3em;box-sizing: border-box;text-align: center;}#sk-container-id-10 label.sk-toggleable__label-arrow:before {content: \"▸\";float: left;margin-right: 0.25em;color: #696969;}#sk-container-id-10 label.sk-toggleable__label-arrow:hover:before {color: black;}#sk-container-id-10 div.sk-estimator:hover label.sk-toggleable__label-arrow:before {color: black;}#sk-container-id-10 div.sk-toggleable__content {max-height: 0;max-width: 0;overflow: hidden;text-align: left;background-color: #f0f8ff;}#sk-container-id-10 div.sk-toggleable__content pre {margin: 0.2em;color: black;border-radius: 0.25em;background-color: #f0f8ff;}#sk-container-id-10 input.sk-toggleable__control:checked~div.sk-toggleable__content {max-height: 200px;max-width: 100%;overflow: auto;}#sk-container-id-10 input.sk-toggleable__control:checked~label.sk-toggleable__label-arrow:before {content: \"▾\";}#sk-container-id-10 div.sk-estimator input.sk-toggleable__control:checked~label.sk-toggleable__label {background-color: #d4ebff;}#sk-container-id-10 div.sk-label input.sk-toggleable__control:checked~label.sk-toggleable__label {background-color: #d4ebff;}#sk-container-id-10 input.sk-hidden--visually {border: 0;clip: rect(1px 1px 1px 1px);clip: rect(1px, 1px, 1px, 1px);height: 1px;margin: -1px;overflow: hidden;padding: 0;position: absolute;width: 1px;}#sk-container-id-10 div.sk-estimator {font-family: monospace;background-color: #f0f8ff;border: 1px dotted black;border-radius: 0.25em;box-sizing: border-box;margin-bottom: 0.5em;}#sk-container-id-10 div.sk-estimator:hover {background-color: #d4ebff;}#sk-container-id-10 div.sk-parallel-item::after {content: \"\";width: 100%;border-bottom: 1px solid gray;flex-grow: 1;}#sk-container-id-10 div.sk-label:hover label.sk-toggleable__label {background-color: #d4ebff;}#sk-container-id-10 div.sk-serial::before {content: \"\";position: absolute;border-left: 1px solid gray;box-sizing: border-box;top: 0;bottom: 0;left: 50%;z-index: 0;}#sk-container-id-10 div.sk-serial {display: flex;flex-direction: column;align-items: center;background-color: white;padding-right: 0.2em;padding-left: 0.2em;position: relative;}#sk-container-id-10 div.sk-item {position: relative;z-index: 1;}#sk-container-id-10 div.sk-parallel {display: flex;align-items: stretch;justify-content: center;background-color: white;position: relative;}#sk-container-id-10 div.sk-item::before, #sk-container-id-10 div.sk-parallel-item::before {content: \"\";position: absolute;border-left: 1px solid gray;box-sizing: border-box;top: 0;bottom: 0;left: 50%;z-index: -1;}#sk-container-id-10 div.sk-parallel-item {display: flex;flex-direction: column;z-index: 1;position: relative;background-color: white;}#sk-container-id-10 div.sk-parallel-item:first-child::after {align-self: flex-end;width: 50%;}#sk-container-id-10 div.sk-parallel-item:last-child::after {align-self: flex-start;width: 50%;}#sk-container-id-10 div.sk-parallel-item:only-child::after {width: 0;}#sk-container-id-10 div.sk-dashed-wrapped {border: 1px dashed gray;margin: 0 0.4em 0.5em 0.4em;box-sizing: border-box;padding-bottom: 0.4em;background-color: white;}#sk-container-id-10 div.sk-label label {font-family: monospace;font-weight: bold;display: inline-block;line-height: 1.2em;}#sk-container-id-10 div.sk-label-container {text-align: center;}#sk-container-id-10 div.sk-container {/* jupyter's `normalize.less` sets `[hidden] { display: none; }` but bootstrap.min.css set `[hidden] { display: none !important; }` so we also need the `!important` here to be able to override the default hidden behavior on the sphinx rendered scikit-learn.org. See: https://github.com/scikit-learn/scikit-learn/issues/21755 */display: inline-block !important;position: relative;}#sk-container-id-10 div.sk-text-repr-fallback {display: none;}</style><div id=\"sk-container-id-10\" class=\"sk-top-container\"><div class=\"sk-text-repr-fallback\"><pre>Lasso(alpha=6700.0, max_iter=100000)</pre><b>In a Jupyter environment, please rerun this cell to show the HTML representation or trust the notebook. <br />On GitHub, the HTML representation is unable to render, please try loading this page with nbviewer.org.</b></div><div class=\"sk-container\" hidden><div class=\"sk-item\"><div class=\"sk-estimator sk-toggleable\"><input class=\"sk-toggleable__control sk-hidden--visually\" id=\"sk-estimator-id-10\" type=\"checkbox\" checked><label for=\"sk-estimator-id-10\" class=\"sk-toggleable__label sk-toggleable__label-arrow\">Lasso</label><div class=\"sk-toggleable__content\"><pre>Lasso(alpha=6700.0, max_iter=100000)</pre></div></div></div></div></div>"
      ],
      "text/plain": [
       "Lasso(alpha=6700.0, max_iter=100000)"
      ]
     },
     "execution_count": 165,
     "metadata": {},
     "output_type": "execute_result"
    }
   ],
   "source": [
    "#Fit l1 function\n",
    "lasso4 = Lasso(alpha=lasso_cv4.alpha_, max_iter=100000)\n",
    "lasso4.fit(X_train_scaled4,y_train4)"
   ]
  },
  {
   "cell_type": "code",
   "execution_count": 166,
   "metadata": {
    "tags": []
   },
   "outputs": [
    {
     "name": "stdout",
     "output_type": "stream",
     "text": [
      "0.6373735343725246\n",
      "0.6316065276796822\n"
     ]
    }
   ],
   "source": [
    "#Score for train data with best alpha\n",
    "print(lasso4.score(X_train_scaled4, y_train4))\n",
    "print(lasso4.score(X_test_scaled4, y_test4))"
   ]
  },
  {
   "cell_type": "markdown",
   "metadata": {},
   "source": [
    "## Test Model // EDA to fill N/A"
   ]
  },
  {
   "cell_type": "code",
   "execution_count": 137,
   "metadata": {
    "tags": []
   },
   "outputs": [],
   "source": [
    "#create test model and mimic train sheet\n",
    "test_model4 = test_df"
   ]
  },
  {
   "cell_type": "code",
   "execution_count": 138,
   "metadata": {
    "tags": []
   },
   "outputs": [
    {
     "data": {
      "text/html": [
       "<div>\n",
       "<style scoped>\n",
       "    .dataframe tbody tr th:only-of-type {\n",
       "        vertical-align: middle;\n",
       "    }\n",
       "\n",
       "    .dataframe tbody tr th {\n",
       "        vertical-align: top;\n",
       "    }\n",
       "\n",
       "    .dataframe thead th {\n",
       "        text-align: right;\n",
       "    }\n",
       "</style>\n",
       "<table border=\"1\" class=\"dataframe\">\n",
       "  <thead>\n",
       "    <tr style=\"text-align: right;\">\n",
       "      <th></th>\n",
       "      <th>id</th>\n",
       "      <th>province</th>\n",
       "      <th>district</th>\n",
       "      <th>subdistrict</th>\n",
       "      <th>address</th>\n",
       "      <th>property_type</th>\n",
       "      <th>total_units</th>\n",
       "      <th>bedrooms</th>\n",
       "      <th>baths</th>\n",
       "      <th>floor_area</th>\n",
       "      <th>...</th>\n",
       "      <th>latitude</th>\n",
       "      <th>longitude</th>\n",
       "      <th>nearby_stations</th>\n",
       "      <th>nearby_station_distance</th>\n",
       "      <th>nearby_bus_stops</th>\n",
       "      <th>nearby_supermarkets</th>\n",
       "      <th>nearby_shops</th>\n",
       "      <th>year_built</th>\n",
       "      <th>month_built</th>\n",
       "      <th>facilities</th>\n",
       "    </tr>\n",
       "  </thead>\n",
       "  <tbody>\n",
       "    <tr>\n",
       "      <th>0</th>\n",
       "      <td>10317868</td>\n",
       "      <td>Samut Prakan</td>\n",
       "      <td>Bang Phli</td>\n",
       "      <td>Bang Phli Yai</td>\n",
       "      <td>Nam Daeng Road Yai</td>\n",
       "      <td>Detached House</td>\n",
       "      <td>800.0</td>\n",
       "      <td>4.0</td>\n",
       "      <td>3.0</td>\n",
       "      <td>120</td>\n",
       "      <td>...</td>\n",
       "      <td>13.614196</td>\n",
       "      <td>100.680610</td>\n",
       "      <td>0</td>\n",
       "      <td>None</td>\n",
       "      <td>NaN</td>\n",
       "      <td>9.0</td>\n",
       "      <td>5</td>\n",
       "      <td>0</td>\n",
       "      <td>None</td>\n",
       "      <td>[Clubhouse, Community Garden, CCTV, Pavillion,...</td>\n",
       "    </tr>\n",
       "    <tr>\n",
       "      <th>1</th>\n",
       "      <td>10885829</td>\n",
       "      <td>Bangkok</td>\n",
       "      <td>Nong Khaem</td>\n",
       "      <td>Nong Khang Phlu</td>\n",
       "      <td>Machareon Road</td>\n",
       "      <td>Detached House</td>\n",
       "      <td>107.0</td>\n",
       "      <td>4.0</td>\n",
       "      <td>3.0</td>\n",
       "      <td>188</td>\n",
       "      <td>...</td>\n",
       "      <td>13.702222</td>\n",
       "      <td>100.341833</td>\n",
       "      <td>0</td>\n",
       "      <td>None</td>\n",
       "      <td>20.0</td>\n",
       "      <td>9.0</td>\n",
       "      <td>5</td>\n",
       "      <td>2020</td>\n",
       "      <td>None</td>\n",
       "      <td>[Car Park, Clubhouse, Community Garden, CCTV, ...</td>\n",
       "    </tr>\n",
       "  </tbody>\n",
       "</table>\n",
       "<p>2 rows × 22 columns</p>\n",
       "</div>"
      ],
      "text/plain": [
       "         id      province    district      subdistrict             address  \\\n",
       "0  10317868  Samut Prakan   Bang Phli    Bang Phli Yai  Nam Daeng Road Yai   \n",
       "1  10885829       Bangkok  Nong Khaem  Nong Khang Phlu      Machareon Road   \n",
       "\n",
       "    property_type  total_units  bedrooms  baths  floor_area  ...   latitude  \\\n",
       "0  Detached House        800.0       4.0    3.0         120  ...  13.614196   \n",
       "1  Detached House        107.0       4.0    3.0         188  ...  13.702222   \n",
       "\n",
       "    longitude  nearby_stations  nearby_station_distance  nearby_bus_stops  \\\n",
       "0  100.680610                0                     None               NaN   \n",
       "1  100.341833                0                     None              20.0   \n",
       "\n",
       "  nearby_supermarkets  nearby_shops  year_built  month_built  \\\n",
       "0                 9.0             5           0         None   \n",
       "1                 9.0             5        2020         None   \n",
       "\n",
       "                                          facilities  \n",
       "0  [Clubhouse, Community Garden, CCTV, Pavillion,...  \n",
       "1  [Car Park, Clubhouse, Community Garden, CCTV, ...  \n",
       "\n",
       "[2 rows x 22 columns]"
      ]
     },
     "execution_count": 138,
     "metadata": {},
     "output_type": "execute_result"
    }
   ],
   "source": [
    "test_model4.head(2) #check"
   ]
  },
  {
   "cell_type": "code",
   "execution_count": 139,
   "metadata": {
    "tags": []
   },
   "outputs": [],
   "source": [
    "#Repeat all steps from train sheet to get resemble results.\n",
    "test_model4 = pd.get_dummies(test_model4,columns=expected_dummy_features4, drop_first=True) #dummfiy\n",
    "test_model4['Facility'] = df_testfac['Facility'] #Add facility\n",
    "\n",
    "test_model4['mrt_count'] = test_df['nearby_station_distance'].apply(lambda x: get_train_count(x, 'MRT')) #Add MRT count column\n",
    "test_model4['bts_count'] = test_df['nearby_station_distance'].apply(lambda x: get_train_count(x, 'BTS')) #Add BTS count column\n",
    "test_model4['srt_count'] = test_df['nearby_station_distance'].apply(lambda x: get_train_count(x, 'SRT')) #Add SRT count column\n",
    "test_model4['arl_count'] = test_df['nearby_station_distance'].apply(lambda x: get_train_count(x, 'Airport Link')) #Add ARL count column\n",
    "\n",
    "test_model4['closest_station_distance'] = test_df['nearby_station_distance'].apply(lambda x: closest_station(x, 'station_distance')) #Add nearest distance column\n",
    "\n",
    "#Fill na\n",
    "test_model4['total_units'].fillna(test_model4['total_units'].mean(),inplace=True)\n",
    "test_model4['bedrooms'].fillna(test_model4['bedrooms'].mean(),inplace=True)\n",
    "test_model4['baths'].fillna(test_model4['baths'].mean(),inplace=True)\n",
    "test_model4['nearby_supermarkets'].fillna(test_model4['nearby_supermarkets'].mean(),inplace=True)\n",
    "test_model4['floor_level'].fillna(1,inplace=True)\n",
    "#Model4 Rv.1\n",
    "test_model4['land_area'].fillna(test_model4['land_area'].mean(),inplace=True)\n",
    "test_model4['floor_area'].fillna(test_model4['floor_area'].mean(),inplace=True)\n",
    "test_model4['month_built'].fillna(6,inplace=True)"
   ]
  },
  {
   "cell_type": "code",
   "execution_count": 140,
   "metadata": {
    "tags": []
   },
   "outputs": [],
   "source": [
    "for col in model4.columns: # iterate all columns in train data\n",
    "    if col not in test_model4.columns: # if the column is not in test data\n",
    "        test_model4[col] = 0 # make the column filled with 0 values\n",
    "test_model4 = test_model4[model4.columns] # drop \"columns exist only in test data\" and sort in the same order"
   ]
  },
  {
   "cell_type": "code",
   "execution_count": 141,
   "metadata": {
    "tags": []
   },
   "outputs": [
    {
     "data": {
      "text/html": [
       "<div>\n",
       "<style scoped>\n",
       "    .dataframe tbody tr th:only-of-type {\n",
       "        vertical-align: middle;\n",
       "    }\n",
       "\n",
       "    .dataframe tbody tr th {\n",
       "        vertical-align: top;\n",
       "    }\n",
       "\n",
       "    .dataframe thead th {\n",
       "        text-align: right;\n",
       "    }\n",
       "</style>\n",
       "<table border=\"1\" class=\"dataframe\">\n",
       "  <thead>\n",
       "    <tr style=\"text-align: right;\">\n",
       "      <th></th>\n",
       "      <th>total_units</th>\n",
       "      <th>latitude</th>\n",
       "      <th>longitude</th>\n",
       "      <th>land_area</th>\n",
       "      <th>floor_area</th>\n",
       "      <th>bedrooms</th>\n",
       "      <th>baths</th>\n",
       "      <th>floor_level</th>\n",
       "      <th>nearby_stations</th>\n",
       "      <th>nearby_supermarkets</th>\n",
       "      <th>...</th>\n",
       "      <th>district_Wang Thonglang</th>\n",
       "      <th>district_Watthana</th>\n",
       "      <th>district_Yan Nawa</th>\n",
       "      <th>property_type_Detached House</th>\n",
       "      <th>property_type_Townhouse</th>\n",
       "      <th>mrt_count</th>\n",
       "      <th>bts_count</th>\n",
       "      <th>srt_count</th>\n",
       "      <th>arl_count</th>\n",
       "      <th>closest_station_distance</th>\n",
       "    </tr>\n",
       "  </thead>\n",
       "  <tbody>\n",
       "    <tr>\n",
       "      <th>0</th>\n",
       "      <td>800.0</td>\n",
       "      <td>13.614196</td>\n",
       "      <td>100.680610</td>\n",
       "      <td>140.0</td>\n",
       "      <td>120</td>\n",
       "      <td>4.0</td>\n",
       "      <td>3.0</td>\n",
       "      <td>1.0</td>\n",
       "      <td>0</td>\n",
       "      <td>9.0</td>\n",
       "      <td>...</td>\n",
       "      <td>False</td>\n",
       "      <td>False</td>\n",
       "      <td>False</td>\n",
       "      <td>True</td>\n",
       "      <td>False</td>\n",
       "      <td>0</td>\n",
       "      <td>0</td>\n",
       "      <td>0</td>\n",
       "      <td>0</td>\n",
       "      <td>2000</td>\n",
       "    </tr>\n",
       "    <tr>\n",
       "      <th>1</th>\n",
       "      <td>107.0</td>\n",
       "      <td>13.702222</td>\n",
       "      <td>100.341833</td>\n",
       "      <td>208.0</td>\n",
       "      <td>188</td>\n",
       "      <td>4.0</td>\n",
       "      <td>3.0</td>\n",
       "      <td>1.0</td>\n",
       "      <td>0</td>\n",
       "      <td>9.0</td>\n",
       "      <td>...</td>\n",
       "      <td>False</td>\n",
       "      <td>False</td>\n",
       "      <td>False</td>\n",
       "      <td>True</td>\n",
       "      <td>False</td>\n",
       "      <td>0</td>\n",
       "      <td>0</td>\n",
       "      <td>0</td>\n",
       "      <td>0</td>\n",
       "      <td>2000</td>\n",
       "    </tr>\n",
       "  </tbody>\n",
       "</table>\n",
       "<p>2 rows × 80 columns</p>\n",
       "</div>"
      ],
      "text/plain": [
       "   total_units   latitude   longitude  land_area  floor_area  bedrooms  baths  \\\n",
       "0        800.0  13.614196  100.680610      140.0         120       4.0    3.0   \n",
       "1        107.0  13.702222  100.341833      208.0         188       4.0    3.0   \n",
       "\n",
       "   floor_level  nearby_stations  nearby_supermarkets  ...  \\\n",
       "0          1.0                0                  9.0  ...   \n",
       "1          1.0                0                  9.0  ...   \n",
       "\n",
       "   district_Wang Thonglang  district_Watthana district_Yan Nawa  \\\n",
       "0                    False              False             False   \n",
       "1                    False              False             False   \n",
       "\n",
       "   property_type_Detached House  property_type_Townhouse  mrt_count  \\\n",
       "0                          True                    False          0   \n",
       "1                          True                    False          0   \n",
       "\n",
       "   bts_count  srt_count  arl_count  closest_station_distance  \n",
       "0          0          0          0                      2000  \n",
       "1          0          0          0                      2000  \n",
       "\n",
       "[2 rows x 80 columns]"
      ]
     },
     "execution_count": 141,
     "metadata": {},
     "output_type": "execute_result"
    }
   ],
   "source": [
    "test_model4.head(2) #check"
   ]
  },
  {
   "cell_type": "code",
   "execution_count": 142,
   "metadata": {
    "tags": []
   },
   "outputs": [
    {
     "data": {
      "text/html": [
       "<div>\n",
       "<style scoped>\n",
       "    .dataframe tbody tr th:only-of-type {\n",
       "        vertical-align: middle;\n",
       "    }\n",
       "\n",
       "    .dataframe tbody tr th {\n",
       "        vertical-align: top;\n",
       "    }\n",
       "\n",
       "    .dataframe thead th {\n",
       "        text-align: right;\n",
       "    }\n",
       "</style>\n",
       "<table border=\"1\" class=\"dataframe\">\n",
       "  <thead>\n",
       "    <tr style=\"text-align: right;\">\n",
       "      <th></th>\n",
       "      <th>total_units</th>\n",
       "      <th>latitude</th>\n",
       "      <th>longitude</th>\n",
       "      <th>land_area</th>\n",
       "      <th>floor_area</th>\n",
       "      <th>bedrooms</th>\n",
       "      <th>baths</th>\n",
       "      <th>floor_level</th>\n",
       "      <th>nearby_stations</th>\n",
       "      <th>nearby_supermarkets</th>\n",
       "      <th>...</th>\n",
       "      <th>district_Wang Thonglang</th>\n",
       "      <th>district_Watthana</th>\n",
       "      <th>district_Yan Nawa</th>\n",
       "      <th>property_type_Detached House</th>\n",
       "      <th>property_type_Townhouse</th>\n",
       "      <th>mrt_count</th>\n",
       "      <th>bts_count</th>\n",
       "      <th>srt_count</th>\n",
       "      <th>arl_count</th>\n",
       "      <th>closest_station_distance</th>\n",
       "    </tr>\n",
       "  </thead>\n",
       "  <tbody>\n",
       "    <tr>\n",
       "      <th>0</th>\n",
       "      <td>273.0</td>\n",
       "      <td>13.721944</td>\n",
       "      <td>100.584850</td>\n",
       "      <td>0.0</td>\n",
       "      <td>66</td>\n",
       "      <td>2.0</td>\n",
       "      <td>2.0</td>\n",
       "      <td>10.0</td>\n",
       "      <td>2</td>\n",
       "      <td>16.0</td>\n",
       "      <td>...</td>\n",
       "      <td>False</td>\n",
       "      <td>True</td>\n",
       "      <td>False</td>\n",
       "      <td>False</td>\n",
       "      <td>False</td>\n",
       "      <td>0</td>\n",
       "      <td>2</td>\n",
       "      <td>0</td>\n",
       "      <td>0</td>\n",
       "      <td>270</td>\n",
       "    </tr>\n",
       "    <tr>\n",
       "      <th>1</th>\n",
       "      <td>74.0</td>\n",
       "      <td>13.741904</td>\n",
       "      <td>100.566949</td>\n",
       "      <td>0.0</td>\n",
       "      <td>49</td>\n",
       "      <td>1.0</td>\n",
       "      <td>1.0</td>\n",
       "      <td>8.0</td>\n",
       "      <td>3</td>\n",
       "      <td>11.0</td>\n",
       "      <td>...</td>\n",
       "      <td>False</td>\n",
       "      <td>True</td>\n",
       "      <td>False</td>\n",
       "      <td>False</td>\n",
       "      <td>False</td>\n",
       "      <td>2</td>\n",
       "      <td>1</td>\n",
       "      <td>0</td>\n",
       "      <td>0</td>\n",
       "      <td>720</td>\n",
       "    </tr>\n",
       "  </tbody>\n",
       "</table>\n",
       "<p>2 rows × 80 columns</p>\n",
       "</div>"
      ],
      "text/plain": [
       "   total_units   latitude   longitude  land_area  floor_area  bedrooms  baths  \\\n",
       "0        273.0  13.721944  100.584850        0.0          66       2.0    2.0   \n",
       "1         74.0  13.741904  100.566949        0.0          49       1.0    1.0   \n",
       "\n",
       "   floor_level  nearby_stations  nearby_supermarkets  ...  \\\n",
       "0         10.0                2                 16.0  ...   \n",
       "1          8.0                3                 11.0  ...   \n",
       "\n",
       "   district_Wang Thonglang  district_Watthana district_Yan Nawa  \\\n",
       "0                    False               True             False   \n",
       "1                    False               True             False   \n",
       "\n",
       "   property_type_Detached House  property_type_Townhouse  mrt_count  \\\n",
       "0                         False                    False          0   \n",
       "1                         False                    False          2   \n",
       "\n",
       "   bts_count  srt_count  arl_count  closest_station_distance  \n",
       "0          2          0          0                       270  \n",
       "1          1          0          0                       720  \n",
       "\n",
       "[2 rows x 80 columns]"
      ]
     },
     "execution_count": 142,
     "metadata": {},
     "output_type": "execute_result"
    }
   ],
   "source": [
    "model4.head(2) #check cont."
   ]
  },
  {
   "cell_type": "code",
   "execution_count": 143,
   "metadata": {
    "tags": []
   },
   "outputs": [
    {
     "data": {
      "text/plain": [
       "total_units                 0\n",
       "latitude                    0\n",
       "longitude                   0\n",
       "land_area                   0\n",
       "floor_area                  0\n",
       "                           ..\n",
       "mrt_count                   0\n",
       "bts_count                   0\n",
       "srt_count                   0\n",
       "arl_count                   0\n",
       "closest_station_distance    0\n",
       "Length: 80, dtype: int64"
      ]
     },
     "execution_count": 143,
     "metadata": {},
     "output_type": "execute_result"
    }
   ],
   "source": [
    "test_model4.isna().sum() #check cont."
   ]
  },
  {
   "cell_type": "markdown",
   "metadata": {},
   "source": [
    "## Test Sheet // Mimic train model features + predict"
   ]
  },
  {
   "cell_type": "code",
   "execution_count": 144,
   "metadata": {
    "tags": []
   },
   "outputs": [],
   "source": [
    "X4 = test_model4[Features]  #Test features"
   ]
  },
  {
   "cell_type": "code",
   "execution_count": 145,
   "metadata": {},
   "outputs": [],
   "source": [
    "ss4.fit(X_train4) \n",
    "X4_test_scaled = ss4.transform(X4) #transform test data"
   ]
  },
  {
   "cell_type": "code",
   "execution_count": 146,
   "metadata": {},
   "outputs": [],
   "source": [
    "#Fit model\n",
    "fit_test = lasso4.fit(X_train_scaled4,y_train4)\n",
    "test_model3['price'] = fit_test.predict(X4_test_scaled) #Predict\n"
   ]
  },
  {
   "cell_type": "code",
   "execution_count": 147,
   "metadata": {},
   "outputs": [
    {
     "data": {
      "text/html": [
       "<div>\n",
       "<style scoped>\n",
       "    .dataframe tbody tr th:only-of-type {\n",
       "        vertical-align: middle;\n",
       "    }\n",
       "\n",
       "    .dataframe tbody tr th {\n",
       "        vertical-align: top;\n",
       "    }\n",
       "\n",
       "    .dataframe thead th {\n",
       "        text-align: right;\n",
       "    }\n",
       "</style>\n",
       "<table border=\"1\" class=\"dataframe\">\n",
       "  <thead>\n",
       "    <tr style=\"text-align: right;\">\n",
       "      <th></th>\n",
       "      <th>id</th>\n",
       "      <th>price</th>\n",
       "    </tr>\n",
       "  </thead>\n",
       "  <tbody>\n",
       "    <tr>\n",
       "      <th>0</th>\n",
       "      <td>10317868</td>\n",
       "      <td>5.129898e+06</td>\n",
       "    </tr>\n",
       "    <tr>\n",
       "      <th>1</th>\n",
       "      <td>10885829</td>\n",
       "      <td>5.788845e+06</td>\n",
       "    </tr>\n",
       "  </tbody>\n",
       "</table>\n",
       "</div>"
      ],
      "text/plain": [
       "         id         price\n",
       "0  10317868  5.129898e+06\n",
       "1  10885829  5.788845e+06"
      ]
     },
     "execution_count": 147,
     "metadata": {},
     "output_type": "execute_result"
    }
   ],
   "source": [
    "df_submit4 = pd.DataFrame(test_df, columns=['id']) #create data frame with ids\n",
    "df_submit4['price'] = test_model3['price'] #add predicted price\n",
    "df_submit4.head(2) #check"
   ]
  },
  {
   "cell_type": "code",
   "execution_count": 148,
   "metadata": {
    "tags": []
   },
   "outputs": [],
   "source": [
    "df_submit4.to_csv('submission_model4.csv', index=False) #export"
   ]
  },
  {
   "cell_type": "code",
   "execution_count": null,
   "metadata": {},
   "outputs": [],
   "source": []
  }
 ],
 "metadata": {
  "kernelspec": {
   "display_name": "Python 3 (ipykernel)",
   "language": "python",
   "name": "python3"
  },
  "language_info": {
   "codemirror_mode": {
    "name": "ipython",
    "version": 3
   },
   "file_extension": ".py",
   "mimetype": "text/x-python",
   "name": "python",
   "nbconvert_exporter": "python",
   "pygments_lexer": "ipython3",
   "version": "3.11.5"
  }
 },
 "nbformat": 4,
 "nbformat_minor": 4
}
